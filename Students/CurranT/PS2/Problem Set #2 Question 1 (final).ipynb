{
 "cells": [
  {
   "cell_type": "markdown",
   "metadata": {},
   "source": [
    "### Problem Set 2:\n",
    "   Tom Curran\n",
    "   \n",
    "   MAC30100 Winter 2018\n",
    "   \n",
    "   January 22, 2018\n",
    "#### Question 1\n",
    "Some income data, lognormal distribution, and hypothesis testing (6 points). For this problem, you will use 200 data points of annual incomes of students who graduated in 2018, 2019, and 2020 from the University of Chicago M.A. Program in Computational Social Science. These data are in a single column of the text file incomes.txt in the PS2 folder. Incomes are reported in U.S. dollars. For this exercise, you will need to use the log normal distribution.\n",
    "\n",
    "$$f(x | \\mu, \\sigma) = \\frac{1}{x\\sigma\\sqrt{2\\pi}} * e^{(-\\frac{[ln(x)-\\mu]^2}{2\\sigma^2})} $$\n",
    "\n",
    "The function $f(x|\\mu, \\sigma^2)$ is a probability density function in that $f(x|\\mu, \\sigma^2)>0$for all x and  $f(x|\\mu, \\sigma^2) = 1$. Note that $x$ must be nonnegative in the lognormal distribution and σ must be strictly positive."
   ]
  },
  {
   "cell_type": "code",
   "execution_count": 1,
   "metadata": {},
   "outputs": [
    {
     "data": {
      "text/html": [
       "<div>\n",
       "<style scoped>\n",
       "    .dataframe tbody tr th:only-of-type {\n",
       "        vertical-align: middle;\n",
       "    }\n",
       "\n",
       "    .dataframe tbody tr th {\n",
       "        vertical-align: top;\n",
       "    }\n",
       "\n",
       "    .dataframe thead th {\n",
       "        text-align: right;\n",
       "    }\n",
       "</style>\n",
       "<table border=\"1\" class=\"dataframe\">\n",
       "  <thead>\n",
       "    <tr style=\"text-align: right;\">\n",
       "      <th></th>\n",
       "      <th>Income</th>\n",
       "    </tr>\n",
       "  </thead>\n",
       "  <tbody>\n",
       "    <tr>\n",
       "      <th>count</th>\n",
       "      <td>200.000000</td>\n",
       "    </tr>\n",
       "    <tr>\n",
       "      <th>mean</th>\n",
       "      <td>87588.930769</td>\n",
       "    </tr>\n",
       "    <tr>\n",
       "      <th>std</th>\n",
       "      <td>18081.166388</td>\n",
       "    </tr>\n",
       "    <tr>\n",
       "      <th>min</th>\n",
       "      <td>49278.801938</td>\n",
       "    </tr>\n",
       "    <tr>\n",
       "      <th>25%</th>\n",
       "      <td>74088.607447</td>\n",
       "    </tr>\n",
       "    <tr>\n",
       "      <th>50%</th>\n",
       "      <td>85801.697366</td>\n",
       "    </tr>\n",
       "    <tr>\n",
       "      <th>75%</th>\n",
       "      <td>100102.725206</td>\n",
       "    </tr>\n",
       "    <tr>\n",
       "      <th>max</th>\n",
       "      <td>135865.026796</td>\n",
       "    </tr>\n",
       "  </tbody>\n",
       "</table>\n",
       "</div>"
      ],
      "text/plain": [
       "              Income\n",
       "count     200.000000\n",
       "mean    87588.930769\n",
       "std     18081.166388\n",
       "min     49278.801938\n",
       "25%     74088.607447\n",
       "50%     85801.697366\n",
       "75%    100102.725206\n",
       "max    135865.026796"
      ]
     },
     "execution_count": 1,
     "metadata": {},
     "output_type": "execute_result"
    }
   ],
   "source": [
    "%matplotlib inline\n",
    "import numpy as np\n",
    "import pandas as pd\n",
    "import matplotlib.pyplot as plt\n",
    "import scipy.optimize as opt\n",
    "import scipy.stats as sts\n",
    "\n",
    "incomes = pd.read_csv(\"incomes.txt\",header = None).rename(columns = {0:\"Income\"})\n",
    "\n",
    "income = incomes.Income\n",
    "\n",
    "incomes.describe()"
   ]
  },
  {
   "cell_type": "markdown",
   "metadata": {},
   "source": [
    "a) Plot a histogram of percentages of the income.txt data with 30 bins. Make sure that the bins are weighted using the normed=True option. Make sure your plot has correct x-axis and y-axis labels as well as a plot title."
   ]
  },
  {
   "cell_type": "code",
   "execution_count": 2,
   "metadata": {},
   "outputs": [
    {
     "data": {
      "text/plain": [
       "<matplotlib.text.Text at 0x111af5198>"
      ]
     },
     "execution_count": 2,
     "metadata": {},
     "output_type": "execute_result"
    },
    {
     "data": {
      "image/png": "[encoded data removed]",
      "text/plain": [
       "<matplotlib.figure.Figure at 0x108043518>"
      ]
     },
     "metadata": {},
     "output_type": "display_data"
    }
   ],
   "source": [
    "plt.hist(incomes.Income, bins = 30, normed = True)\n",
    "plt.title(\"Reported Incomes of MACS Students\")\n",
    "plt.xlabel(r\"Reported Income (\\$)\")\n",
    "plt.ylabel('Density')"
   ]
  },
  {
   "cell_type": "markdown",
   "metadata": {},
   "source": [
    "b) Plot the lognormal PDF f(x|μ = 11.0,σ = 0.5) for 0 ≤ x ≤ 150,000. What is the value of the log likelihood value for this parameterization of the distribution and given this data?"
   ]
  },
  {
   "cell_type": "code",
   "execution_count": 3,
   "metadata": {
    "collapsed": true
   },
   "outputs": [],
   "source": [
    "#define the lognorm pdf function using formula provided\n",
    "\n",
    "def lognormpdf(x, sigma, mu, cutoff):\n",
    "    if cutoff == 'None':\n",
    "        prob_notcut = 1.0 - sts.norm.cdf(0, loc=mu, scale=sigma)\n",
    "    else:\n",
    "        prob_notcut = (sts.norm.cdf(cutoff, loc=mu, scale=sigma) -\n",
    "                       sts.norm.cdf(0, loc=mu, scale=sigma))\n",
    "    pdf = (1/(x*sigma*np.sqrt(2*np.pi))) * np.exp( - ((np.log(x)- mu)**2)/(2*sigma**2))/prob_notcut\n",
    "    return(pdf)"
   ]
  },
  {
   "cell_type": "code",
   "execution_count": 4,
   "metadata": {},
   "outputs": [
    {
     "data": {
      "text/plain": [
       "<matplotlib.legend.Legend at 0x112169be0>"
      ]
     },
     "execution_count": 4,
     "metadata": {},
     "output_type": "execute_result"
    },
    {
     "data": {
      "image/png": "[encoded data removed]",
      "text/plain": [
       "<matplotlib.figure.Figure at 0x111bd8208>"
      ]
     },
     "metadata": {},
     "output_type": "display_data"
    }
   ],
   "source": [
    "#create simulated points to simulate the mean and sd\n",
    "\n",
    "x_sim = np.linspace(0.01, 150000, 500)\n",
    "\n",
    "mu_1 = 11\n",
    "sigma_1 = .5\n",
    "cutoff = 150000\n",
    "pdf_x_sim = lognormpdf(x_sim,sigma_1,mu_1,cutoff)\n",
    "plt.plot(x_sim, pdf_x_sim, color = \"g\", label='$\\mu$=11,$\\sigma$=0.5')\n",
    "plt.title(\"Distribution of Log Normal PDF\")\n",
    "plt.xlabel(\"Reported Income\")\n",
    "plt.ylabel(\"Density\")\n",
    "plt.legend(loc = \"upper right\")"
   ]
  },
  {
   "cell_type": "code",
   "execution_count": 5,
   "metadata": {},
   "outputs": [
    {
     "name": "stdout",
     "output_type": "stream",
     "text": [
      "Log Likelihood of Sigma =  0.5  and mu =  11 : Income   -2385.856998\n",
      "dtype: float64\n"
     ]
    }
   ],
   "source": [
    "#create and print out the log likelihood values:\n",
    "\n",
    "def log_likelihood(x, sigma, mu, cutoff):\n",
    "    pdf = lognormpdf(x, sigma, mu, cutoff)\n",
    "    ln_pdf = np.log(pdf)\n",
    "    ln_pdf_sum = ln_pdf.sum()\n",
    "    \n",
    "    return ln_pdf_sum\n",
    "\n",
    "incomes_log_likelihood = log_likelihood(incomes, sigma_1,mu_1,cutoff)\n",
    "print(\"Log Likelihood of Sigma = \", sigma_1,\" and mu = \", mu_1,\":\",incomes_log_likelihood)\n"
   ]
  },
  {
   "cell_type": "markdown",
   "metadata": {},
   "source": [
    "c) Estimate the parameters of the lognormal distribution by maximum likeli- hood and plot its PDF against the PDF from part (b) and the histogram from part (a). Plot the estimated PDF for 0 ≤ x ≤ 150, 000. Report the ML estimates for μ and σ, the value of the likelihood function, and the variance-covariance matrix."
   ]
  },
  {
   "cell_type": "code",
   "execution_count": 6,
   "metadata": {
    "collapsed": true
   },
   "outputs": [],
   "source": [
    "def crit(params, *args):\n",
    "    \n",
    "    sigma = params[0]\n",
    "    mu = params[1]\n",
    "    x, cutoff = args\n",
    "    log_lik_val = log_likelihood(x, sigma, mu, cutoff)\n",
    "    neg_log_lik_val = -log_lik_val \n",
    "    return(neg_log_lik_val)"
   ]
  },
  {
   "cell_type": "code",
   "execution_count": 7,
   "metadata": {},
   "outputs": [
    {
     "name": "stdout",
     "output_type": "stream",
     "text": [
      "      fun: 2241.719301368661\n",
      " hess_inv: <2x2 LbfgsInvHessProduct with dtype=float64>\n",
      "      jac: array([ 0.01118678,  0.00650289])\n",
      "  message: b'CONVERGENCE: REL_REDUCTION_OF_F_<=_FACTR*EPSMCH'\n",
      "     nfev: 48\n",
      "      nit: 10\n",
      "   status: 0\n",
      "  success: True\n",
      "        x: array([  0.20817854,  11.35902441])\n"
     ]
    }
   ],
   "source": [
    "mu_init = mu_1\n",
    "\n",
    "sigma_init = sigma_1\n",
    "\n",
    "params_init = np.array([sigma_init, mu_init])\n",
    "\n",
    "x_init = income \n",
    "\n",
    "cutoff_init = cutoff\n",
    "\n",
    "mle_args = (x_init, cutoff_init)\n",
    "\n",
    "results = opt.minimize(crit, params_init, args=(mle_args), method='L-BFGS-B',bounds=((0.1, None), (0.1, None)))\n",
    "print(results)"
   ]
  },
  {
   "cell_type": "code",
   "execution_count": 8,
   "metadata": {},
   "outputs": [
    {
     "name": "stdout",
     "output_type": "stream",
     "text": [
      "Maximum Likelihood Estimate Sigma =  0.208178536649\n",
      "Maximum Likelihood Estimate Mu =  11.3590244074\n"
     ]
    }
   ],
   "source": [
    "mle_sigma, mle_mu = results.x\n",
    "print(\"Maximum Likelihood Estimate Sigma = \", mle_sigma)\n",
    "print(\"Maximum Likelihood Estimate Mu = \", mle_mu)"
   ]
  },
  {
   "cell_type": "markdown",
   "metadata": {},
   "source": [
    "#### Variance Covariance Matrix:"
   ]
  },
  {
   "cell_type": "code",
   "execution_count": 9,
   "metadata": {},
   "outputs": [
    {
     "name": "stdout",
     "output_type": "stream",
     "text": [
      "Variance Covariance Matrix for MLE Values =  [[ 0.00010283 -0.00010283]\n",
      " [-0.00022522  0.00022522]]\n",
      "Standard error for mu mle estimate =  0.0101407002914\n",
      "Standard error for sigma mle estimate =  0.0150073128909\n"
     ]
    }
   ],
   "source": [
    "results\n",
    "OffDiagNeg = np.array([[1, -1], [-1, 1]])\n",
    "vcv_mle = results.hess_inv * OffDiagNeg\n",
    "stderr_mu_mle = np.sqrt(vcv_mle[0,0])\n",
    "stderr_sig_mle = np.sqrt(vcv_mle[1,1])\n",
    "print('Variance Covariance Matrix for MLE Values = ', vcv_mle)\n",
    "print('Standard error for mu mle estimate = ', stderr_mu_mle)\n",
    "print('Standard error for sigma mle estimate = ', stderr_sig_mle)"
   ]
  },
  {
   "cell_type": "code",
   "execution_count": 10,
   "metadata": {},
   "outputs": [
    {
     "data": {
      "text/plain": [
       "<matplotlib.legend.Legend at 0x116df51d0>"
      ]
     },
     "execution_count": 10,
     "metadata": {},
     "output_type": "execute_result"
    },
    {
     "data": {
      "image/png": "[encoded data removed]",
      "text/plain": [
       "<matplotlib.figure.Figure at 0x1121a3ef0>"
      ]
     },
     "metadata": {},
     "output_type": "display_data"
    }
   ],
   "source": [
    "mle_x_sim = lognormpdf(x_sim, mle_sigma, mle_mu, cutoff)\n",
    "\n",
    "plt.hist(incomes.Income, bins=30, normed = True)\n",
    "plt.plot(x_sim, pdf_x_sim, color = \"g\", label='$\\mu$=11, $\\sigma$=0.5')\n",
    "plt.plot(x_sim, mle_x_sim, color = \"r\", label='$\\mu$=11.36, $\\sigma$=0.21')\n",
    "plt.title(\"MACS Reported Salaries\")\n",
    "plt.xlabel(\"Reported Salary (\\$)\")\n",
    "plt.ylabel(\"Percent of Scores\")\n",
    "plt.legend(loc = \"upper right\")"
   ]
  },
  {
   "cell_type": "markdown",
   "metadata": {},
   "source": [
    "d) Perform a likelihood ratio test to determine the probability that the data in incomes.txt came from the distribution in part (b)."
   ]
  },
  {
   "cell_type": "code",
   "execution_count": 11,
   "metadata": {},
   "outputs": [
    {
     "name": "stdout",
     "output_type": "stream",
     "text": [
      "Log Likelihood of Sigma =  0.5  and mu =  11 : Income   -2385.856998\n",
      "dtype: float64\n",
      "------------------------------------------------------------------\n",
      "Log Likelihood of Sigma =  0.208178536649  and mu =  11.3590244074 : Income   -2241.719301\n",
      "dtype: float64\n",
      "------------------------------------------------------------------\n",
      "Null Hypothesis chi-squared p-value =  [ 0.]\n"
     ]
    }
   ],
   "source": [
    "mle_log_likelihood = log_likelihood(incomes, mle_sigma, mle_mu, cutoff)\n",
    "print(\"Log Likelihood of Sigma = \", sigma_1,\" and mu = \", mu_1,\":\",incomes_log_likelihood)\n",
    "print('------------------------------------------------------------------')\n",
    "print(\"Log Likelihood of Sigma = \", mle_sigma,\" and mu = \", mle_mu,\":\",mle_log_likelihood)\n",
    "\n",
    "null_log_likely = incomes_log_likelihood\n",
    "alt_log_likely = mle_log_likelihood\n",
    "\n",
    "sig_lvl = 2 * (alt_log_likely - null_log_likely)\n",
    "\n",
    "pval_null = 1.0 - sts.chi2.cdf(sig_lvl, 2)\n",
    "print('------------------------------------------------------------------')\n",
    "print('Null Hypothesis chi-squared p-value = ', pval_null)\n",
    "\n"
   ]
  },
  {
   "cell_type": "markdown",
   "metadata": {},
   "source": [
    "e) With your estimated distribution of incomes for Chicago MACSS students from part (c), you now have a model for what your own income might look like when you graduate. Using that estimated model from part (c), What is the probability that you will earn more than \\$100,000? What is the probability that you will earn less than \\$75,000?"
   ]
  },
  {
   "cell_type": "code",
   "execution_count": 12,
   "metadata": {},
   "outputs": [
    {
     "name": "stdout",
     "output_type": "stream",
     "text": [
      "Probability of salary greater than $100000:  22.99%\n",
      "------------------------------------------------------------------\n",
      "Probability of salary less than $75000:  26.02%\n"
     ]
    }
   ],
   "source": [
    "salary1 =  1 - sts.lognorm.cdf(100000, scale = np.exp(mle_mu), s = mle_sigma)\n",
    "salary2 = sts.lognorm.cdf(75000, scale = np.exp(mle_mu), s = mle_sigma)\n",
    "\n",
    "print(\"Probability of salary greater than $100000: \", str(round(salary1,4)*100)+'%')\n",
    "print('------------------------------------------------------------------')\n",
    "print(\"Probability of salary less than $75000: \", str(round(salary2,4)*100)+'%')\n",
    "\n"
   ]
  }
 ],
 "metadata": {
  "kernelspec": {
   "display_name": "Python 3",
   "language": "python",
   "name": "python3"
  },
  "language_info": {
   "codemirror_mode": {
    "name": "ipython",
    "version": 3
   },
   "file_extension": ".py",
   "mimetype": "text/x-python",
   "name": "python",
   "nbconvert_exporter": "python",
   "pygments_lexer": "ipython3",
   "version": "3.6.1"
  }
 },
 "nbformat": 4,
 "nbformat_minor": 2
}
