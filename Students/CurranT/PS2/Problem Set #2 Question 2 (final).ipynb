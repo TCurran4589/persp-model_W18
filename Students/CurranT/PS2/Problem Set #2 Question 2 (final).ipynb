{
 "cells": [
  {
   "cell_type": "markdown",
   "metadata": {},
   "source": [
    "### Problem Set 2:\n",
    "   Tom Curran\n",
    "   \n",
    "   MAC30100 Winter 2018\n",
    "   \n",
    "   January 22, 2018\n",
    "\n",
    "#### Question 2\n",
    "\n",
    "Linear regression and MLE (4 points). You can do maximum likelihood estimation as a way to estimate parameters in regression analysis. Assume the following linear regression model for determining what effects the number of weeks that an individual i is sick during the year (sicki).\n",
    "\n",
    "$$\n",
    "sick_{i} = \\beta_{0} + \\beta_{1}age_i + \\beta_2children_i + \\beta_3tempwinter_i + \\epsilon_i \\\\ where \\  \\epsilon \\sim N(0, \\sigma^2)\n",
    "$$\n",
    "\n",
    "The parameters (β0, β1, β2, β3, σ2) are the parameters of the model that we want to estimate. The variable agei gives the age of individual i at the end of 2016 (including fractions of a year). The variable childreni states how many chil- dren individual i had at the end of 2016. And the variable temp winteri is the average temperature during the months of January, February, and Decem- ber 2016 for individual i. The data for this model are in the file sick.txt, which contains comma-separated values of 200 individuals for four variables (sicki, agei, childreni, temp winteri) with variable labels in the first row.\n",
    "***"
   ]
  },
  {
   "cell_type": "markdown",
   "metadata": {},
   "source": [
    "a) Estimate the parameters of the model(β0,β1,β2,β3,σ2)by maximum likelihood using the fact that each error term εi is distributed normally N(0, σ2). We can solve the regression equation for εi which tells us that the following equation is distributed normally N(0, σ2).\n",
    "\n",
    "$$sick - \\beta_0 - \\beta_1 age_i - \\beta_2 children_i - \\beta_3 tempwinter_i \\sim N(0,\\sigma^2)$$\n",
    "\n",
    "Estimate (β0, β1, β2, β3, σ2) to maximize the likelihood of seeing the data in sick.txt. Report your estimates, the value of the log likelihood function, and the estimated variance covariance matrix of the estimates."
   ]
  },
  {
   "cell_type": "code",
   "execution_count": 1,
   "metadata": {},
   "outputs": [
    {
     "data": {
      "text/html": [
       "<div>\n",
       "<style scoped>\n",
       "    .dataframe tbody tr th:only-of-type {\n",
       "        vertical-align: middle;\n",
       "    }\n",
       "\n",
       "    .dataframe tbody tr th {\n",
       "        vertical-align: top;\n",
       "    }\n",
       "\n",
       "    .dataframe thead th {\n",
       "        text-align: right;\n",
       "    }\n",
       "</style>\n",
       "<table border=\"1\" class=\"dataframe\">\n",
       "  <thead>\n",
       "    <tr style=\"text-align: right;\">\n",
       "      <th></th>\n",
       "      <th>sick</th>\n",
       "      <th>age</th>\n",
       "      <th>children</th>\n",
       "      <th>avgtemp_winter</th>\n",
       "    </tr>\n",
       "  </thead>\n",
       "  <tbody>\n",
       "    <tr>\n",
       "      <th>count</th>\n",
       "      <td>200.000000</td>\n",
       "      <td>200.000000</td>\n",
       "      <td>200.000000</td>\n",
       "      <td>200.000000</td>\n",
       "    </tr>\n",
       "    <tr>\n",
       "      <th>mean</th>\n",
       "      <td>1.008600</td>\n",
       "      <td>40.683850</td>\n",
       "      <td>1.674950</td>\n",
       "      <td>44.041250</td>\n",
       "    </tr>\n",
       "    <tr>\n",
       "      <th>std</th>\n",
       "      <td>0.504222</td>\n",
       "      <td>11.268686</td>\n",
       "      <td>0.969761</td>\n",
       "      <td>11.101977</td>\n",
       "    </tr>\n",
       "    <tr>\n",
       "      <th>min</th>\n",
       "      <td>0.040000</td>\n",
       "      <td>12.810000</td>\n",
       "      <td>0.000000</td>\n",
       "      <td>16.500000</td>\n",
       "    </tr>\n",
       "    <tr>\n",
       "      <th>25%</th>\n",
       "      <td>0.650000</td>\n",
       "      <td>33.967500</td>\n",
       "      <td>0.970000</td>\n",
       "      <td>36.112500</td>\n",
       "    </tr>\n",
       "    <tr>\n",
       "      <th>50%</th>\n",
       "      <td>0.960000</td>\n",
       "      <td>41.015000</td>\n",
       "      <td>1.560000</td>\n",
       "      <td>43.300000</td>\n",
       "    </tr>\n",
       "    <tr>\n",
       "      <th>75%</th>\n",
       "      <td>1.322500</td>\n",
       "      <td>47.750000</td>\n",
       "      <td>2.322500</td>\n",
       "      <td>52.172500</td>\n",
       "    </tr>\n",
       "    <tr>\n",
       "      <th>max</th>\n",
       "      <td>2.800000</td>\n",
       "      <td>74.890000</td>\n",
       "      <td>4.960000</td>\n",
       "      <td>68.600000</td>\n",
       "    </tr>\n",
       "  </tbody>\n",
       "</table>\n",
       "</div>"
      ],
      "text/plain": [
       "             sick         age    children  avgtemp_winter\n",
       "count  200.000000  200.000000  200.000000      200.000000\n",
       "mean     1.008600   40.683850    1.674950       44.041250\n",
       "std      0.504222   11.268686    0.969761       11.101977\n",
       "min      0.040000   12.810000    0.000000       16.500000\n",
       "25%      0.650000   33.967500    0.970000       36.112500\n",
       "50%      0.960000   41.015000    1.560000       43.300000\n",
       "75%      1.322500   47.750000    2.322500       52.172500\n",
       "max      2.800000   74.890000    4.960000       68.600000"
      ]
     },
     "execution_count": 1,
     "metadata": {},
     "output_type": "execute_result"
    }
   ],
   "source": [
    "import numpy as np\n",
    "import pandas as pd\n",
    "import matplotlib.pyplot as plt\n",
    "import scipy.optimize as opt\n",
    "import scipy.stats as sts\n",
    "import statsmodels.formula.api as smf\n",
    "sickdf= pd.read_csv(\"sick.txt\")\n",
    "sickdf.describe()"
   ]
  },
  {
   "cell_type": "markdown",
   "metadata": {},
   "source": [
    "***"
   ]
  },
  {
   "cell_type": "code",
   "execution_count": 2,
   "metadata": {},
   "outputs": [
    {
     "data": {
      "text/html": [
       "<table class=\"simpletable\">\n",
       "<caption>OLS Regression Results</caption>\n",
       "<tr>\n",
       "  <th>Dep. Variable:</th>          <td>sick</td>       <th>  R-squared:         </th> <td>   1.000</td> \n",
       "</tr>\n",
       "<tr>\n",
       "  <th>Model:</th>                   <td>OLS</td>       <th>  Adj. R-squared:    </th> <td>   1.000</td> \n",
       "</tr>\n",
       "<tr>\n",
       "  <th>Method:</th>             <td>Least Squares</td>  <th>  F-statistic:       </th> <td>1.815e+06</td>\n",
       "</tr>\n",
       "<tr>\n",
       "  <th>Date:</th>             <td>Sun, 21 Jan 2018</td> <th>  Prob (F-statistic):</th>  <td>  0.00</td>  \n",
       "</tr>\n",
       "<tr>\n",
       "  <th>Time:</th>                 <td>20:56:30</td>     <th>  Log-Likelihood:    </th> <td>  876.87</td> \n",
       "</tr>\n",
       "<tr>\n",
       "  <th>No. Observations:</th>      <td>   200</td>      <th>  AIC:               </th> <td>  -1746.</td> \n",
       "</tr>\n",
       "<tr>\n",
       "  <th>Df Residuals:</th>          <td>   196</td>      <th>  BIC:               </th> <td>  -1733.</td> \n",
       "</tr>\n",
       "<tr>\n",
       "  <th>Df Model:</th>              <td>     3</td>      <th>                     </th>     <td> </td>    \n",
       "</tr>\n",
       "<tr>\n",
       "  <th>Covariance Type:</th>      <td>nonrobust</td>    <th>                     </th>     <td> </td>    \n",
       "</tr>\n",
       "</table>\n",
       "<table class=\"simpletable\">\n",
       "<tr>\n",
       "         <td></td>           <th>coef</th>     <th>std err</th>      <th>t</th>      <th>P>|t|</th>  <th>[0.025</th>    <th>0.975]</th>  \n",
       "</tr>\n",
       "<tr>\n",
       "  <th>Intercept</th>      <td>    0.2516</td> <td>    0.001</td> <td>  254.032</td> <td> 0.000</td> <td>    0.250</td> <td>    0.254</td>\n",
       "</tr>\n",
       "<tr>\n",
       "  <th>age</th>            <td>    0.0129</td> <td> 6.49e-05</td> <td>  199.257</td> <td> 0.000</td> <td>    0.013</td> <td>    0.013</td>\n",
       "</tr>\n",
       "<tr>\n",
       "  <th>children</th>       <td>    0.4005</td> <td>    0.001</td> <td>  643.790</td> <td> 0.000</td> <td>    0.399</td> <td>    0.402</td>\n",
       "</tr>\n",
       "<tr>\n",
       "  <th>avgtemp_winter</th> <td>   -0.0100</td> <td> 4.51e-05</td> <td> -221.388</td> <td> 0.000</td> <td>   -0.010</td> <td>   -0.010</td>\n",
       "</tr>\n",
       "</table>\n",
       "<table class=\"simpletable\">\n",
       "<tr>\n",
       "  <th>Omnibus:</th>       <td>24.095</td> <th>  Durbin-Watson:     </th> <td>   1.997</td>\n",
       "</tr>\n",
       "<tr>\n",
       "  <th>Prob(Omnibus):</th> <td> 0.000</td> <th>  Jarque-Bera (JB):  </th> <td>   7.115</td>\n",
       "</tr>\n",
       "<tr>\n",
       "  <th>Skew:</th>          <td>-0.002</td> <th>  Prob(JB):          </th> <td>  0.0285</td>\n",
       "</tr>\n",
       "<tr>\n",
       "  <th>Kurtosis:</th>      <td> 2.076</td> <th>  Cond. No.          </th> <td>    290.</td>\n",
       "</tr>\n",
       "</table>"
      ],
      "text/plain": [
       "<class 'statsmodels.iolib.summary.Summary'>\n",
       "\"\"\"\n",
       "                            OLS Regression Results                            \n",
       "==============================================================================\n",
       "Dep. Variable:                   sick   R-squared:                       1.000\n",
       "Model:                            OLS   Adj. R-squared:                  1.000\n",
       "Method:                 Least Squares   F-statistic:                 1.815e+06\n",
       "Date:                Sun, 21 Jan 2018   Prob (F-statistic):               0.00\n",
       "Time:                        20:56:30   Log-Likelihood:                 876.87\n",
       "No. Observations:                 200   AIC:                            -1746.\n",
       "Df Residuals:                     196   BIC:                            -1733.\n",
       "Df Model:                           3                                         \n",
       "Covariance Type:            nonrobust                                         \n",
       "==================================================================================\n",
       "                     coef    std err          t      P>|t|      [0.025      0.975]\n",
       "----------------------------------------------------------------------------------\n",
       "Intercept          0.2516      0.001    254.032      0.000       0.250       0.254\n",
       "age                0.0129   6.49e-05    199.257      0.000       0.013       0.013\n",
       "children           0.4005      0.001    643.790      0.000       0.399       0.402\n",
       "avgtemp_winter    -0.0100   4.51e-05   -221.388      0.000      -0.010      -0.010\n",
       "==============================================================================\n",
       "Omnibus:                       24.095   Durbin-Watson:                   1.997\n",
       "Prob(Omnibus):                  0.000   Jarque-Bera (JB):                7.115\n",
       "Skew:                          -0.002   Prob(JB):                       0.0285\n",
       "Kurtosis:                       2.076   Cond. No.                         290.\n",
       "==============================================================================\n",
       "\n",
       "Warnings:\n",
       "[1] Standard Errors assume that the covariance matrix of the errors is correctly specified.\n",
       "\"\"\""
      ]
     },
     "execution_count": 2,
     "metadata": {},
     "output_type": "execute_result"
    }
   ],
   "source": [
    "ols_example = smf.ols('sick ~age + children + avgtemp_winter', data = sickdf).fit().summary()\n",
    "ols_example"
   ]
  },
  {
   "cell_type": "code",
   "execution_count": 3,
   "metadata": {
    "collapsed": true
   },
   "outputs": [],
   "source": [
    "numsick = sickdf.sick\n",
    "age = sickdf.age\n",
    "children = sickdf.children\n",
    "wintertemp = sickdf.avgtemp_winter"
   ]
  },
  {
   "cell_type": "code",
   "execution_count": 4,
   "metadata": {
    "collapsed": true
   },
   "outputs": [],
   "source": [
    "def errorSum(coef, variables):\n",
    "    b0, b1, b2, b3, sigma = coef\n",
    "    \n",
    "    numsick2, age2, children2, wintertemp2 = variables\n",
    "    \n",
    "    errors = (numsick2 - b0 - b1*age2 - b2*children2 - b3*wintertemp2)**2\n",
    "    \n",
    "    sum_errors = errors.sum()\n",
    "    \n",
    "    return(sum_errors)"
   ]
  },
  {
   "cell_type": "code",
   "execution_count": 5,
   "metadata": {
    "collapsed": true
   },
   "outputs": [],
   "source": [
    "def loglikelihood(coef, variables):\n",
    "    n = len(sickdf)\n",
    "    \n",
    "    ll_b0, ll_b1, ll_b2, ll_b3, ll_sigma = coef\n",
    "    \n",
    "    total_errors = errorSum(coef, variables)\n",
    "    \n",
    "    likelihood = - (n * np.log (2 * np.pi)) / 2  - (n * np.log(ll_sigma ** 2)) / 2 - (1 / (2 * ll_sigma ** 2)) * total_errors\n",
    "    \n",
    "    return(likelihood)"
   ]
  },
  {
   "cell_type": "code",
   "execution_count": 6,
   "metadata": {
    "collapsed": true
   },
   "outputs": [],
   "source": [
    "def crit(params, *args):\n",
    "    \n",
    "    c_b0, c_b1, c_b2, c_b3, c_sigma = params\n",
    "    \n",
    "    sick, age, children, temp = args\n",
    "    \n",
    "    c_logliklihood = loglikelihood(params, args)\n",
    "    \n",
    "    c_loglikely_neg = - c_logliklihood\n",
    "    \n",
    "    return(c_loglikely_neg)"
   ]
  },
  {
   "cell_type": "code",
   "execution_count": 7,
   "metadata": {
    "collapsed": true
   },
   "outputs": [],
   "source": [
    "b0_init = .1\n",
    "b1_init = .1\n",
    "b2_init = .1\n",
    "b3_init = .1\n",
    "sigma = 1\n",
    "\n",
    "params_init = np.array([b0_init, b1_init, b2_init, b3_init, sigma])\n",
    "\n",
    "mle_args = numsick, age, children, wintertemp\n",
    "\n",
    "bounds= ((None, None), (None, None),(None, None), (None, None),(1e-10, None))"
   ]
  },
  {
   "cell_type": "code",
   "execution_count": 8,
   "metadata": {},
   "outputs": [
    {
     "data": {
      "text/plain": [
       "      fun: -876.86506388489283\n",
       " hess_inv: <5x5 LbfgsInvHessProduct with dtype=float64>\n",
       "      jac: array([  1.30695526,  52.52322808,   1.55824864,  74.00824416,   0.90410595])\n",
       "  message: b'CONVERGENCE: REL_REDUCTION_OF_F_<=_FACTR*EPSMCH'\n",
       "     nfev: 666\n",
       "      nit: 57\n",
       "   status: 0\n",
       "  success: True\n",
       "        x: array([ 0.25164454,  0.01293343,  0.40050135, -0.00999168,  0.0030177 ])"
      ]
     },
     "execution_count": 8,
     "metadata": {},
     "output_type": "execute_result"
    }
   ],
   "source": [
    "results = opt.minimize(crit, params_init, args = (mle_args), method = 'L-BFGS-B', bounds = bounds)\n",
    "results"
   ]
  },
  {
   "cell_type": "code",
   "execution_count": 9,
   "metadata": {},
   "outputs": [
    {
     "name": "stdout",
     "output_type": "stream",
     "text": [
      "Estimate for Beta 0:  0.251644535194\n",
      "------------------------------------------------------------------\n",
      "Estimate for Beta 1:  0.012933429607\n",
      "------------------------------------------------------------------\n",
      "Estimate for Beta 2:  0.400501345733\n",
      "------------------------------------------------------------------\n",
      "Estimate for Beta 3:  -0.00999167643603\n",
      "------------------------------------------------------------------\n",
      "Estimate for Sigma:   0.00301770494473\n",
      "------------------------------------------------------------------\n"
     ]
    }
   ],
   "source": [
    "mleb0, mleb1, mleb2, mleb3, sigma = results.x\n",
    "\n",
    "print(\"Estimate for Beta 0: \", mleb0)\n",
    "print('------------------------------------------------------------------')\n",
    "print(\"Estimate for Beta 1: \", mleb1)\n",
    "print('------------------------------------------------------------------')\n",
    "print(\"Estimate for Beta 2: \", mleb2)\n",
    "print('------------------------------------------------------------------')\n",
    "print(\"Estimate for Beta 3: \", mleb3)\n",
    "print('------------------------------------------------------------------')\n",
    "print(\"Estimate for Sigma:  \", sigma)\n",
    "print('------------------------------------------------------------------')"
   ]
  },
  {
   "cell_type": "code",
   "execution_count": 10,
   "metadata": {},
   "outputs": [
    {
     "name": "stdout",
     "output_type": "stream",
     "text": [
      "The Log Likelihood value is  876.865063885\n"
     ]
    }
   ],
   "source": [
    "mle_coef = results.x\n",
    "\n",
    "mle_vars = numsick, age, children, wintertemp\n",
    "\n",
    "mle_loglikelihood = loglikelihood(mle_coef, mle_vars)\n",
    "\n",
    "print(\"The Log Likelihood value is \", mle_loglikelihood)"
   ]
  },
  {
   "cell_type": "code",
   "execution_count": 11,
   "metadata": {},
   "outputs": [
    {
     "name": "stdout",
     "output_type": "stream",
     "text": [
      "Estimate Vary, Covary Matrix:\n",
      "------------------------------------------------------------------\n",
      "[[ 427.24472524 -187.68681806 -425.55677393 -161.05074325 -152.97357621]\n",
      " [ -10.4282363     4.58110311   10.38703421    3.93093842    3.73377675]\n",
      " [-185.58416665   81.52634396  184.85096412   69.95631751   66.44780227]\n",
      " [   9.18530841   -4.03508657   -9.14901723   -3.46241515   -3.28875335]\n",
      " [  15.13295817   -6.6478829   -15.07316713   -5.70438801   -5.41827063]]\n"
     ]
    }
   ],
   "source": [
    "offdiagneg = [[1,-1,-1,-1,-1],\n",
    "             [-1,1,-1,-1,-1],\n",
    "             [-1,-1,1,-1,-1],\n",
    "             [-1,-1,-1,1,-1],\n",
    "             [1,-1,-1,-1,1]]\n",
    "hess_matrix = results.hess_inv\n",
    "\n",
    "var_cov_matrix = hess_matrix * offdiagneg\n",
    "\n",
    "print(\"Estimate Vary, Covary Matrix:\")\n",
    "print('------------------------------------------------------------------')\n",
    "print(var_cov_matrix)"
   ]
  },
  {
   "cell_type": "markdown",
   "metadata": {},
   "source": [
    "b) Use a likelihood ratio test to determine the probability that β0 = 1.0, σ2 = 0.01 and β1,β2,β3 = 0. That is, what is the likelihood that age, number of children, and average winter temperature have no effect on the number of sick days?"
   ]
  },
  {
   "cell_type": "code",
   "execution_count": 12,
   "metadata": {},
   "outputs": [
    {
     "name": "stdout",
     "output_type": "stream",
     "text": [
      "p value: 0.0\n",
      "Hypothesis is rejected that age, children, age winter temperature have no effect on number of sick days\n"
     ]
    }
   ],
   "source": [
    "#assign part b coefficients values based on quesiton parameters\n",
    "b_b0, b_b1, b_b2, b_b3, sigma = np.array([1.0, 0,0,0,0.01])\n",
    "\n",
    "b_coef = b_b0, b_b1, b_b2, b_b3, sigma\n",
    "\n",
    "b_variables = numsick, age, children, wintertemp\n",
    "\n",
    "null_likelihood = loglikelihood(b_coef, b_variables)\n",
    "\n",
    "alt_likelihood = loglikelihood(results.x, b_variables)\n",
    "\n",
    "lr_val = 2 * (alt_likelihood - null_likelihood)\n",
    "\n",
    "pval_null = 1.0 - sts.chi2.cdf(lr_val, 5)\n",
    "\n",
    "print(\"p value:\", pval_null)\n",
    "\n",
    "print(\"Hypothesis is rejected that age, children, age winter temperature have no effect on number of sick days\")\n"
   ]
  },
  {
   "cell_type": "code",
   "execution_count": null,
   "metadata": {
    "collapsed": true
   },
   "outputs": [],
   "source": []
  }
 ],
 "metadata": {
  "kernelspec": {
   "display_name": "Python 3",
   "language": "python",
   "name": "python3"
  },
  "language_info": {
   "codemirror_mode": {
    "name": "ipython",
    "version": 3
   },
   "file_extension": ".py",
   "mimetype": "text/x-python",
   "name": "python",
   "nbconvert_exporter": "python",
   "pygments_lexer": "ipython3",
   "version": "3.6.1"
  }
 },
 "nbformat": 4,
 "nbformat_minor": 2
}
