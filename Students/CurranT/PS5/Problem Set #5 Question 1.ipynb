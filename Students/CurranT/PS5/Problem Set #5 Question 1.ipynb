{
 "cells": [
  {
   "cell_type": "markdown",
   "metadata": {},
   "source": [
    "---\n",
    "Tom Curran\n",
    "\n",
    "Problem Set \\#5\n",
    "\n",
    "MACS 30100\n",
    "\n",
    "Monday February 19, 2018\n",
    "\n",
    "---\n",
    "\n",
    "**Multinomial logistic regression and cross validation (6 points)**. For this problem, you will estimate the probability that a given wine comes from a given cultivar. The data in the file strongdrink.txt (taken from the UCI Machine Learning Repository) are the results of a chemical analysis of 176 Italian wines from three known cultivars (a cultivar is a group of grapes selected for desirable characteristics that can be maintained by propagation). The chemical analysis determined the quantities of the following 13 different constituents (the last 13 variables):"
   ]
  },
  {
   "cell_type": "markdown",
   "metadata": {},
   "source": [
    "Use a multinomial logistic regression model of the following form with the following linear predictor ηj for j = 1, 2 (the baseline class is j = 3).\n",
    "\n",
    "\n",
    "$$ Pr ( culitvar_{i} = j\\ | X \\beta_{j} )$$\n",
    "\n",
    "Estimate the model on a 75% sample training set using the following com- mand. Report your two sets of estimated coefficients for j = 1 and j = 2. Report your error rates (1 - precision) on the test set using the code below. Which category of cultivar is the model best at predicting? Is the most accurately predicted category the one with the most observations?"
   ]
  },
  {
   "cell_type": "code",
   "execution_count": 1,
   "metadata": {},
   "outputs": [
    {
     "name": "stderr",
     "output_type": "stream",
     "text": [
      "/Users/thomascurran/anaconda/lib/python3.6/site-packages/sklearn/cross_validation.py:44: DeprecationWarning: This module was deprecated in version 0.18 in favor of the model_selection module into which all the refactored classes and functions are moved. Also note that the interface of the new CV iterators are different from that of this module. This module will be removed in 0.20.\n",
      "  \"This module will be removed in 0.20.\", DeprecationWarning)\n"
     ]
    }
   ],
   "source": [
    "import pandas as pd\n",
    "import numpy as np\n",
    "import sklearn\n",
    "from sklearn import preprocessing\n",
    "from sklearn.linear_model import LogisticRegression\n",
    "from sklearn.cross_validation import train_test_split\n",
    "from sklearn.model_selection import LeaveOneOut, KFold\n",
    "from sklearn import metrics \n",
    "from sklearn.metrics import classification_report, mean_squared_error\n",
    "from pylab import rcParams\n",
    "df = pd.read_csv(\"strongdrink.txt\")"
   ]
  },
  {
   "cell_type": "code",
   "execution_count": 2,
   "metadata": {},
   "outputs": [
    {
     "name": "stderr",
     "output_type": "stream",
     "text": [
      "/Users/thomascurran/anaconda/lib/python3.6/site-packages/ipykernel_launcher.py:8: SettingWithCopyWarning: \n",
      "A value is trying to be set on a copy of a slice from a DataFrame.\n",
      "Try using .loc[row_indexer,col_indexer] = value instead\n",
      "\n",
      "See the caveats in the documentation: http://pandas.pydata.org/pandas-docs/stable/indexing.html#indexing-view-versus-copy\n",
      "  \n"
     ]
    },
    {
     "data": {
      "text/html": [
       "<div>\n",
       "<style scoped>\n",
       "    .dataframe tbody tr th:only-of-type {\n",
       "        vertical-align: middle;\n",
       "    }\n",
       "\n",
       "    .dataframe tbody tr th {\n",
       "        vertical-align: top;\n",
       "    }\n",
       "\n",
       "    .dataframe thead th {\n",
       "        text-align: right;\n",
       "    }\n",
       "</style>\n",
       "<table border=\"1\" class=\"dataframe\">\n",
       "  <thead>\n",
       "    <tr style=\"text-align: right;\">\n",
       "      <th></th>\n",
       "      <th>cultivar</th>\n",
       "      <th>alco</th>\n",
       "      <th>malic</th>\n",
       "      <th>tot_phen</th>\n",
       "      <th>color_int</th>\n",
       "      <th>constant</th>\n",
       "    </tr>\n",
       "  </thead>\n",
       "  <tbody>\n",
       "    <tr>\n",
       "      <th>0</th>\n",
       "      <td>1</td>\n",
       "      <td>14.23</td>\n",
       "      <td>1.71</td>\n",
       "      <td>2.80</td>\n",
       "      <td>5.64</td>\n",
       "      <td>1</td>\n",
       "    </tr>\n",
       "    <tr>\n",
       "      <th>1</th>\n",
       "      <td>1</td>\n",
       "      <td>13.20</td>\n",
       "      <td>1.78</td>\n",
       "      <td>2.65</td>\n",
       "      <td>4.38</td>\n",
       "      <td>1</td>\n",
       "    </tr>\n",
       "    <tr>\n",
       "      <th>2</th>\n",
       "      <td>1</td>\n",
       "      <td>13.16</td>\n",
       "      <td>2.36</td>\n",
       "      <td>2.80</td>\n",
       "      <td>5.68</td>\n",
       "      <td>1</td>\n",
       "    </tr>\n",
       "    <tr>\n",
       "      <th>3</th>\n",
       "      <td>1</td>\n",
       "      <td>14.37</td>\n",
       "      <td>1.95</td>\n",
       "      <td>3.85</td>\n",
       "      <td>7.80</td>\n",
       "      <td>1</td>\n",
       "    </tr>\n",
       "    <tr>\n",
       "      <th>4</th>\n",
       "      <td>1</td>\n",
       "      <td>13.24</td>\n",
       "      <td>2.59</td>\n",
       "      <td>2.80</td>\n",
       "      <td>4.32</td>\n",
       "      <td>1</td>\n",
       "    </tr>\n",
       "  </tbody>\n",
       "</table>\n",
       "</div>"
      ],
      "text/plain": [
       "   cultivar   alco  malic  tot_phen  color_int  constant\n",
       "0         1  14.23   1.71      2.80       5.64         1\n",
       "1         1  13.20   1.78      2.65       4.38         1\n",
       "2         1  13.16   2.36      2.80       5.68         1\n",
       "3         1  14.37   1.95      3.85       7.80         1\n",
       "4         1  13.24   2.59      2.80       4.32         1"
      ]
     },
     "execution_count": 2,
     "metadata": {},
     "output_type": "execute_result"
    }
   ],
   "source": [
    "df.columns\n",
    "\n",
    "test = df[['cultivar',\n",
    "          'alco',\n",
    "          'malic',\n",
    "          'tot_phen',\n",
    "          'color_int']]\n",
    "test['constant'] = 1\n",
    "test.head()\n"
   ]
  },
  {
   "cell_type": "code",
   "execution_count": 3,
   "metadata": {},
   "outputs": [
    {
     "data": {
      "text/plain": [
       "cultivar     0\n",
       "alco         0\n",
       "malic        0\n",
       "tot_phen     0\n",
       "color_int    0\n",
       "constant     0\n",
       "dtype: int64"
      ]
     },
     "execution_count": 3,
     "metadata": {},
     "output_type": "execute_result"
    }
   ],
   "source": [
    "test.isnull().sum()"
   ]
  },
  {
   "cell_type": "code",
   "execution_count": 25,
   "metadata": {
    "collapsed": true
   },
   "outputs": [],
   "source": [
    "#exog\n",
    "x = test[['alco',\n",
    "         'malic',\n",
    "         'tot_phen',\n",
    "         'color_int']]\n",
    "x.insert(0,'constant',1)\n",
    "#endog\n",
    "y = test['cultivar']"
   ]
  },
  {
   "cell_type": "code",
   "execution_count": 26,
   "metadata": {
    "collapsed": true
   },
   "outputs": [],
   "source": [
    "x_train, x_test, y_train, y_test = train_test_split(x,y, test_size= .25, random_state = 20)"
   ]
  },
  {
   "cell_type": "code",
   "execution_count": 27,
   "metadata": {
    "collapsed": true
   },
   "outputs": [],
   "source": [
    "multilogreg = LogisticRegression(multi_class = 'multinomial',solver = 'newton-cg')\n",
    "\n",
    "results = multilogreg.fit(x_train, y_train)\n",
    "\n",
    "coefficients = results.coef_\n",
    "\n",
    "yhat = multilogreg.predict(x_test)\n",
    "\n",
    "confusion_matrix = metrics.confusion_matrix(y_test, yhat)\n",
    "\n",
    "classification = classification_report(y_test, yhat)\n",
    "\n",
    "model_mean_squared_error = mean_squared_error(y_test, yhat)"
   ]
  },
  {
   "cell_type": "code",
   "execution_count": 28,
   "metadata": {},
   "outputs": [
    {
     "name": "stdout",
     "output_type": "stream",
     "text": [
      "Coefficients when j = 1: [ -8.45998030e-06   1.70038994e+00  -2.65604001e-01   1.22389318e+00\n",
      "   2.27585993e-02]\n",
      "Intercept when j = 1: -24.0108147994\n",
      "------------------------------------------------\n",
      "Coefficients when j = 2: [ -1.76923782e-05  -1.46805313e+00  -3.33053748e-01   6.64013944e-01\n",
      "  -9.22712974e-01]\n",
      "Intercept when j = 2: 22.8025761029\n"
     ]
    }
   ],
   "source": [
    "print(\"Coefficients when j = 1:\", coefficients[0])\n",
    "print(\"Intercept when j = 1:\", results.intercept_[0])\n",
    "print(\"------------------------------------------------\")\n",
    "print(\"Coefficients when j = 2:\", coefficients[1])\n",
    "print(\"Intercept when j = 2:\", results.intercept_[1])"
   ]
  },
  {
   "cell_type": "code",
   "execution_count": 29,
   "metadata": {},
   "outputs": [
    {
     "name": "stdout",
     "output_type": "stream",
     "text": [
      "[[13  0  0]\n",
      " [ 2 19  0]\n",
      " [ 0  0 10]]\n"
     ]
    }
   ],
   "source": [
    "print(confusion_matrix)"
   ]
  },
  {
   "cell_type": "code",
   "execution_count": 30,
   "metadata": {},
   "outputs": [
    {
     "name": "stdout",
     "output_type": "stream",
     "text": [
      "             precision    recall  f1-score   support\n",
      "\n",
      "          1       0.87      1.00      0.93        13\n",
      "          2       1.00      0.90      0.95        21\n",
      "          3       1.00      1.00      1.00        10\n",
      "\n",
      "avg / total       0.96      0.95      0.96        44\n",
      "\n"
     ]
    }
   ],
   "source": [
    "print(classification)"
   ]
  },
  {
   "cell_type": "code",
   "execution_count": 31,
   "metadata": {},
   "outputs": [
    {
     "name": "stdout",
     "output_type": "stream",
     "text": [
      "[-24.0108148  22.8025761   1.2082387]\n"
     ]
    }
   ],
   "source": [
    "print(multilogreg.intercept_)"
   ]
  },
  {
   "cell_type": "code",
   "execution_count": 32,
   "metadata": {},
   "outputs": [
    {
     "name": "stdout",
     "output_type": "stream",
     "text": [
      "[1 2 3]\n"
     ]
    }
   ],
   "source": [
    "print(multilogreg.classes_)"
   ]
  },
  {
   "cell_type": "code",
   "execution_count": 33,
   "metadata": {},
   "outputs": [
    {
     "name": "stdout",
     "output_type": "stream",
     "text": [
      "0.0454545454545\n"
     ]
    }
   ],
   "source": [
    "print(model_mean_squared_error)"
   ]
  },
  {
   "cell_type": "code",
   "execution_count": 34,
   "metadata": {},
   "outputs": [
    {
     "data": {
      "text/plain": [
       "cultivar\n",
       "1    59\n",
       "2    71\n",
       "3    46\n",
       "Name: cultivar, dtype: int64"
      ]
     },
     "execution_count": 34,
     "metadata": {},
     "output_type": "execute_result"
    }
   ],
   "source": [
    "#number of obs per cultivar\n",
    "test.groupby(['cultivar'])['cultivar'].count()"
   ]
  },
  {
   "cell_type": "markdown",
   "metadata": {},
   "source": [
    "***\n",
    "\n",
    "Error Rates:\n",
    "\n",
    "$$ Cultivar_1 = 1 - .87 = .13 $$\n",
    "$$ Cultivar_2 = 1 - 1 = 0 $$\n",
    "$$ Cultivar_3 = 1 - 1 = 0 $$\n",
    "\n",
    "The model is best at predicting cultivar \\#3 since its error rate was 0%, while Cultivar 2 also had a 0% error rate, it had a lower recall value, and Cultivar 1 was the worst predicted since there was a 13% error rate. \n",
    "\n",
    "Based on the model, the most acurately predicted cultivar is not the one with the most observations. \n",
    "***"
   ]
  },
  {
   "cell_type": "markdown",
   "metadata": {},
   "source": [
    "(b) Perform a leave-one-out cross validation (LOOCV) with the model from part (a). Report your error rates (1 - precision) for each category? How do your error rates compare to those from part (a)? Report your LOOCV estimate for the test MSE as the average MSE, where yi is the left out observation from each test set."
   ]
  },
  {
   "cell_type": "code",
   "execution_count": 35,
   "metadata": {
    "collapsed": true
   },
   "outputs": [],
   "source": [
    "x_loo = np.array(x) #copy of 1a model\n",
    "\n",
    "y_loo = np.array(y) #copy of 1a model\n",
    "\n",
    "n_loo = x_loo.shape[0] #get the length of the number of obs\n",
    "\n",
    "loo = LeaveOneOut() #initialize the LOO function\n",
    "\n",
    "loo.get_n_splits(x_loo) #number of times that LOO is going to split the column\n",
    "\n",
    "mse_loo = np.zeros(n_loo) #create a n number of zeroes to form a matrix"
   ]
  },
  {
   "cell_type": "code",
   "execution_count": 36,
   "metadata": {},
   "outputs": [
    {
     "name": "stdout",
     "output_type": "stream",
     "text": [
      "-------------------------------------\n",
      "Mean Squared Error for LOO Cross Validation:  0.0965909090909\n",
      "Standard Deviation of Mean Squared Error for LOO Cross Validation:  0.394262505894\n"
     ]
    }
   ],
   "source": [
    "ytest_val = np.zeros(n_loo)\n",
    "ypred_val = np.zeros(n_loo)\n",
    "\n",
    "\n",
    "for train_index, test_index in loo.split(x_loo):\n",
    "    x_train_loo, x_test_loo = x_loo[train_index], x_loo[test_index]\n",
    "    y_train_loo, y_test_loo = y_loo[train_index], y_loo[test_index]\n",
    "    \n",
    "    ytest_val[test_index] = y_test_loo\n",
    "    \n",
    "    loo_logreg = LogisticRegression(multi_class = 'multinomial', solver = 'newton-cg')\n",
    "    \n",
    "    loo_logreg.fit(x_train_loo, y_train_loo)\n",
    "    \n",
    "    yhat_loo = loo_logreg.predict(x_test_loo)\n",
    "    \n",
    "    ypred_val[test_index] = yhat_loo\n",
    "\n",
    "    mse_loo[test_index] = (y_test_loo - yhat_loo)**2\n",
    "    \n",
    "    #print(\"Mean Squared Error for test set number \", test_index,\": \", mse_loo[test_index])\n",
    "    \n",
    "mse_loo_mean = mse_loo.mean()\n",
    "\n",
    "mse_loo_std = mse_loo.std()\n",
    "print(\"-------------------------------------\")\n",
    "print(\"Mean Squared Error for LOO Cross Validation: \", mse_loo_mean)\n",
    "print(\"Standard Deviation of Mean Squared Error for LOO Cross Validation: \", mse_loo_std)"
   ]
  },
  {
   "cell_type": "code",
   "execution_count": 37,
   "metadata": {},
   "outputs": [
    {
     "name": "stdout",
     "output_type": "stream",
     "text": [
      "             precision    recall  f1-score   support\n",
      "\n",
      "        1.0       0.90      0.93      0.92        59\n",
      "        2.0       0.91      0.90      0.91        71\n",
      "        3.0       0.96      0.93      0.95        46\n",
      "\n",
      "avg / total       0.92      0.92      0.92       176\n",
      "\n"
     ]
    }
   ],
   "source": [
    "print(classification_report(ytest_val, ypred_val))"
   ]
  },
  {
   "cell_type": "markdown",
   "metadata": {},
   "source": [
    "***\n",
    "\n",
    "Error Rates:\n",
    "\n",
    "$$ Cultivar_1 = 1 - .90 = .10 $$\n",
    "$$ Cultivar_2 = 1 - .91 = .9 $$\n",
    "$$ Cultivar_3 = 1 - .96 = .4 $$\n",
    "\n",
    "This model is worse at predicting cultivar than the model produced in part a\n",
    "\n",
    "***"
   ]
  },
  {
   "cell_type": "markdown",
   "metadata": {},
   "source": [
    "1c) K-Fold Cross Validation:"
   ]
  },
  {
   "cell_type": "code",
   "execution_count": 44,
   "metadata": {
    "collapsed": true
   },
   "outputs": [],
   "source": [
    "k = 4\n",
    "\n",
    "xvals = np.array(x)\n",
    "\n",
    "yvals = np.array(y)\n",
    "\n",
    "kf = KFold(n_splits = k, shuffle = True, random_state = 10)\n",
    "\n",
    "kf.get_n_splits(xvals)\n",
    "\n",
    "mse_k = np.zeros(k)"
   ]
  },
  {
   "cell_type": "code",
   "execution_count": 45,
   "metadata": {},
   "outputs": [
    {
     "name": "stdout",
     "output_type": "stream",
     "text": [
      "k index:  0 | MSE:  0.363636363636\n",
      "k index:  1 | MSE:  0.227272727273\n",
      "k index:  2 | MSE:  0.181818181818\n",
      "k index:  3 | MSE:  0.0454545454545\n"
     ]
    }
   ],
   "source": [
    "k_index = int(0)\n",
    "k_ytest_val = np.zeros(n_loo)\n",
    "k_ypred_val = np.zeros(n_loo)\n",
    "\n",
    "for train_index, test_index in kf.split(xvals):\n",
    "    \n",
    "    x_train_k, x_test_k = xvals[train_index], xvals[test_index]\n",
    "    y_train_k, y_test_k = yvals[train_index], yvals[test_index]\n",
    "    \n",
    "    multilogreg_k = LogisticRegression()\n",
    "    \n",
    "    multilogreg_k.fit(x_train_k, y_train_k)\n",
    "    \n",
    "    yhat_k = multilogreg_k.predict(x_test_k)\n",
    "    \n",
    "    k_ytest_val[test_index] = y_test_k\n",
    "    \n",
    "    k_ypred_val[test_index] = yhat_k\n",
    "        \n",
    "    mse_k[k_index] = ((y_test_k - yhat_k)**2).mean()\n",
    "\n",
    "    print(\"k index: \", k_index,\"|\", \"MSE: \", mse_k[k_index])\n",
    "    \n",
    "    k_index += 1"
   ]
  },
  {
   "cell_type": "code",
   "execution_count": 46,
   "metadata": {},
   "outputs": [
    {
     "name": "stdout",
     "output_type": "stream",
     "text": [
      "test esimate for MSE k-fold:  0.204545454545  | test estimate standard error:  0.113636363636\n"
     ]
    }
   ],
   "source": [
    "mse_k_mean = mse_k.mean()\n",
    "mse_k_std = mse_k.std()\n",
    "print(\"test esimate for MSE k-fold: \", mse_k_mean,\" | test estimate standard error: \", mse_k_std)"
   ]
  },
  {
   "cell_type": "code",
   "execution_count": 47,
   "metadata": {},
   "outputs": [
    {
     "name": "stdout",
     "output_type": "stream",
     "text": [
      "             precision    recall  f1-score   support\n",
      "\n",
      "        1.0       0.81      0.75      0.78        59\n",
      "        2.0       0.81      0.87      0.84        71\n",
      "        3.0       0.96      0.93      0.95        46\n",
      "\n",
      "avg / total       0.85      0.85      0.85       176\n",
      "\n"
     ]
    }
   ],
   "source": [
    "print(classification_report(k_ytest_val, k_ypred_val))"
   ]
  },
  {
   "cell_type": "markdown",
   "metadata": {},
   "source": [
    "***\n",
    "\n",
    "Error Rates:\n",
    "\n",
    "$$ Cultivar_1 = 1 - .81 = .19 $$\n",
    "$$ Cultivar_2 = 1 - .81 = .19 $$\n",
    "$$ Cultivar_3 = 1 - .96 = .4 $$\n",
    "\n",
    "This model is worse at predicting cultivar than the model produced in part a and in part b\n",
    "\n",
    "***"
   ]
  }
 ],
 "metadata": {
  "kernelspec": {
   "display_name": "Python 3",
   "language": "python",
   "name": "python3"
  },
  "language_info": {
   "codemirror_mode": {
    "name": "ipython",
    "version": 3
   },
   "file_extension": ".py",
   "mimetype": "text/x-python",
   "name": "python",
   "nbconvert_exporter": "python",
   "pygments_lexer": "ipython3",
   "version": "3.6.1"
  }
 },
 "nbformat": 4,
 "nbformat_minor": 2
}
