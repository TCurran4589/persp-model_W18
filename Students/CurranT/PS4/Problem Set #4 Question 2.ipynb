{
 "cells": [
  {
   "cell_type": "markdown",
   "metadata": {},
   "source": [
    "---\n",
    "Tom Curran\n",
    "\n",
    "Problem Set \\#4\n",
    "\n",
    "MACS 30100\n",
    "\n",
    "Monday February 5, 2018\n",
    "\n",
    "---\n",
    "\n",
    "2. **Classification problem**: KKN by hand and in Python (3 points). The table below provides a training data set containing six observations, three pre- dictors, and one qualitative response variable.\n",
    "\n",
    "|Obs |$X_1$ |$X_2$ |$X_3$ |Y    |Dist from  $X_1$ |Dist from  $X_2$ |Dist from  $X_2$ |\n",
    "|:--:|:----:|:----:|:----:|:---:|:---------------:|:---------------:|:---------------:|\n",
    "|1   |0     |3     |0     |Red  |                 |                 |                 |\n",
    "|2   |2     |0     |0     |Red  |                 |                 |                 |\n",
    "|3   |0     |1     |3     |Red  |                 |                 |                 |\n",
    "|4   |0     |1     |2     |Green|                 |                 |                 |\n",
    "|5   |-1    |0     |1     |Green|                 |                 |                 |\n",
    "|6   |1     |1     |1     |Red  |                 |                 |                 |\n",
    "Suppose we wish to use this data set to make a prediction for Y when X1 = X2 = X3 = 0 using K-nearest neighbors."
   ]
  },
  {
   "cell_type": "markdown",
   "metadata": {},
   "source": [
    "(a) Compute the Euclidean distance between each observation and the test pointX1 =X2 =X3 =0.\n",
    "\n",
    "$$\n",
    "dist(p,q) = \\sqrt{(q_1 - p_1)^2 +(q_2 - p_2)^2 +(q_3 - p_3)^2 }\n",
    "$$"
   ]
  },
  {
   "cell_type": "code",
   "execution_count": 1,
   "metadata": {},
   "outputs": [
    {
     "name": "stderr",
     "output_type": "stream",
     "text": [
      "/Users/thomascurran/anaconda/lib/python3.6/site-packages/statsmodels/compat/pandas.py:56: FutureWarning: The pandas.core.datetools module is deprecated and will be removed in a future version. Please use the pandas.tseries module instead.\n",
      "  from pandas.core import datetools\n"
     ]
    }
   ],
   "source": [
    "import pandas as pd\n",
    "import numpy as np\n",
    "import statsmodels.api as sm\n",
    "import matplotlib.pyplot as plt\n",
    "from pandas.plotting import scatter_matrix\n",
    "from statsmodels.iolib.summary2 import summary_col"
   ]
  },
  {
   "cell_type": "code",
   "execution_count": 119,
   "metadata": {
    "collapsed": true
   },
   "outputs": [],
   "source": [
    "df = pd.DataFrame({'obs': [1,2,3,4,5,6],\n",
    "                  'x1':[0,2,0,0,-1,1],\n",
    "                  'x2':[3,0,1,1,0,1],\n",
    "                  'x3':[0,0,3,2,1,1],\n",
    "                  'y':['Red','Red','Red','Green','Green','Red']})\n",
    "\n",
    "df = df.set_index(\"obs\")\n",
    "\n",
    "df = df[['x1','x2','x3','y']]"
   ]
  },
  {
   "cell_type": "code",
   "execution_count": 120,
   "metadata": {},
   "outputs": [
    {
     "data": {
      "text/html": [
       "<div>\n",
       "<style scoped>\n",
       "    .dataframe tbody tr th:only-of-type {\n",
       "        vertical-align: middle;\n",
       "    }\n",
       "\n",
       "    .dataframe tbody tr th {\n",
       "        vertical-align: top;\n",
       "    }\n",
       "\n",
       "    .dataframe thead th {\n",
       "        text-align: right;\n",
       "    }\n",
       "</style>\n",
       "<table border=\"1\" class=\"dataframe\">\n",
       "  <thead>\n",
       "    <tr style=\"text-align: right;\">\n",
       "      <th></th>\n",
       "      <th>x1</th>\n",
       "      <th>x2</th>\n",
       "      <th>x3</th>\n",
       "      <th>y</th>\n",
       "    </tr>\n",
       "    <tr>\n",
       "      <th>obs</th>\n",
       "      <th></th>\n",
       "      <th></th>\n",
       "      <th></th>\n",
       "      <th></th>\n",
       "    </tr>\n",
       "  </thead>\n",
       "  <tbody>\n",
       "    <tr>\n",
       "      <th>1</th>\n",
       "      <td>0</td>\n",
       "      <td>3</td>\n",
       "      <td>0</td>\n",
       "      <td>Red</td>\n",
       "    </tr>\n",
       "    <tr>\n",
       "      <th>2</th>\n",
       "      <td>2</td>\n",
       "      <td>0</td>\n",
       "      <td>0</td>\n",
       "      <td>Red</td>\n",
       "    </tr>\n",
       "    <tr>\n",
       "      <th>3</th>\n",
       "      <td>0</td>\n",
       "      <td>1</td>\n",
       "      <td>3</td>\n",
       "      <td>Red</td>\n",
       "    </tr>\n",
       "    <tr>\n",
       "      <th>4</th>\n",
       "      <td>0</td>\n",
       "      <td>1</td>\n",
       "      <td>2</td>\n",
       "      <td>Green</td>\n",
       "    </tr>\n",
       "    <tr>\n",
       "      <th>5</th>\n",
       "      <td>-1</td>\n",
       "      <td>0</td>\n",
       "      <td>1</td>\n",
       "      <td>Green</td>\n",
       "    </tr>\n",
       "    <tr>\n",
       "      <th>6</th>\n",
       "      <td>1</td>\n",
       "      <td>1</td>\n",
       "      <td>1</td>\n",
       "      <td>Red</td>\n",
       "    </tr>\n",
       "  </tbody>\n",
       "</table>\n",
       "</div>"
      ],
      "text/plain": [
       "     x1  x2  x3      y\n",
       "obs                   \n",
       "1     0   3   0    Red\n",
       "2     2   0   0    Red\n",
       "3     0   1   3    Red\n",
       "4     0   1   2  Green\n",
       "5    -1   0   1  Green\n",
       "6     1   1   1    Red"
      ]
     },
     "execution_count": 120,
     "metadata": {},
     "output_type": "execute_result"
    }
   ],
   "source": [
    "df"
   ]
  },
  {
   "cell_type": "code",
   "execution_count": 134,
   "metadata": {
    "collapsed": true
   },
   "outputs": [],
   "source": [
    "'''\n",
    "\n",
    "distance = sqrt((x1 - 0)^2 +(x2 - 0)^2 +(x3 - 0)^2)\n",
    "\n",
    "'''\n",
    "\n",
    "\n",
    "def distance(q, p):\n",
    "    q1,q2,q3 = q\n",
    "    p1, p2, p3 = p\n",
    "    \n",
    "    dist1 =( q1 - p1 )** 2\n",
    "    \n",
    "    dist2 =( q2 - p2 )** 2\n",
    "    \n",
    "    dist3 =( q3 - p3 )** 2\n",
    "    \n",
    "    total_distance = np.sqrt(dist1 + dist2 + dist3)\n",
    "    \n",
    "    return(dist1, dist2, dist3, total_distance)"
   ]
  },
  {
   "cell_type": "code",
   "execution_count": 137,
   "metadata": {
    "collapsed": true
   },
   "outputs": [],
   "source": [
    "total_dist = []\n",
    "dist_x1 = []\n",
    "dist_x2 = []\n",
    "dist_x3 = []\n",
    "\n",
    "for i in range(0,len(df.index)):\n",
    "    q_points = np.array(df.iloc[i][0:3])\n",
    "    p_points = np.array([0,0,0]) \n",
    "\n",
    "    dist = distance(q_points,p_points)\n",
    "    \n",
    "    dist_x1.append(np.sqrt(dist[0]))\n",
    "    dist_x2.append(np.sqrt(dist[1]))\n",
    "    dist_x3.append(np.sqrt(dist[2]))\n",
    "    \n",
    "    total_dist.append(dist[3])\n",
    "    \n",
    "df['dist_from_x1'] = dist_x1\n",
    "df['dist_from_x2'] = dist_x2\n",
    "df['dist_from_x3'] = dist_x3\n",
    "df['total_distance'] = total_dist"
   ]
  },
  {
   "cell_type": "code",
   "execution_count": 138,
   "metadata": {},
   "outputs": [
    {
     "data": {
      "text/html": [
       "<div>\n",
       "<style scoped>\n",
       "    .dataframe tbody tr th:only-of-type {\n",
       "        vertical-align: middle;\n",
       "    }\n",
       "\n",
       "    .dataframe tbody tr th {\n",
       "        vertical-align: top;\n",
       "    }\n",
       "\n",
       "    .dataframe thead th {\n",
       "        text-align: right;\n",
       "    }\n",
       "</style>\n",
       "<table border=\"1\" class=\"dataframe\">\n",
       "  <thead>\n",
       "    <tr style=\"text-align: right;\">\n",
       "      <th></th>\n",
       "      <th>x1</th>\n",
       "      <th>x2</th>\n",
       "      <th>x3</th>\n",
       "      <th>y</th>\n",
       "      <th>dist_from_x1</th>\n",
       "      <th>dist_from_x2</th>\n",
       "      <th>dist_from_x3</th>\n",
       "      <th>total_distance</th>\n",
       "    </tr>\n",
       "    <tr>\n",
       "      <th>obs</th>\n",
       "      <th></th>\n",
       "      <th></th>\n",
       "      <th></th>\n",
       "      <th></th>\n",
       "      <th></th>\n",
       "      <th></th>\n",
       "      <th></th>\n",
       "      <th></th>\n",
       "    </tr>\n",
       "  </thead>\n",
       "  <tbody>\n",
       "    <tr>\n",
       "      <th>1</th>\n",
       "      <td>0</td>\n",
       "      <td>3</td>\n",
       "      <td>0</td>\n",
       "      <td>Red</td>\n",
       "      <td>0.0</td>\n",
       "      <td>3.0</td>\n",
       "      <td>0.0</td>\n",
       "      <td>3.000000</td>\n",
       "    </tr>\n",
       "    <tr>\n",
       "      <th>2</th>\n",
       "      <td>2</td>\n",
       "      <td>0</td>\n",
       "      <td>0</td>\n",
       "      <td>Red</td>\n",
       "      <td>2.0</td>\n",
       "      <td>0.0</td>\n",
       "      <td>0.0</td>\n",
       "      <td>2.000000</td>\n",
       "    </tr>\n",
       "    <tr>\n",
       "      <th>3</th>\n",
       "      <td>0</td>\n",
       "      <td>1</td>\n",
       "      <td>3</td>\n",
       "      <td>Red</td>\n",
       "      <td>0.0</td>\n",
       "      <td>1.0</td>\n",
       "      <td>3.0</td>\n",
       "      <td>3.162278</td>\n",
       "    </tr>\n",
       "    <tr>\n",
       "      <th>4</th>\n",
       "      <td>0</td>\n",
       "      <td>1</td>\n",
       "      <td>2</td>\n",
       "      <td>Green</td>\n",
       "      <td>0.0</td>\n",
       "      <td>1.0</td>\n",
       "      <td>2.0</td>\n",
       "      <td>2.236068</td>\n",
       "    </tr>\n",
       "    <tr>\n",
       "      <th>5</th>\n",
       "      <td>-1</td>\n",
       "      <td>0</td>\n",
       "      <td>1</td>\n",
       "      <td>Green</td>\n",
       "      <td>1.0</td>\n",
       "      <td>0.0</td>\n",
       "      <td>1.0</td>\n",
       "      <td>1.414214</td>\n",
       "    </tr>\n",
       "    <tr>\n",
       "      <th>6</th>\n",
       "      <td>1</td>\n",
       "      <td>1</td>\n",
       "      <td>1</td>\n",
       "      <td>Red</td>\n",
       "      <td>1.0</td>\n",
       "      <td>1.0</td>\n",
       "      <td>1.0</td>\n",
       "      <td>1.732051</td>\n",
       "    </tr>\n",
       "  </tbody>\n",
       "</table>\n",
       "</div>"
      ],
      "text/plain": [
       "     x1  x2  x3      y  dist_from_x1  dist_from_x2  dist_from_x3  \\\n",
       "obs                                                                \n",
       "1     0   3   0    Red           0.0           3.0           0.0   \n",
       "2     2   0   0    Red           2.0           0.0           0.0   \n",
       "3     0   1   3    Red           0.0           1.0           3.0   \n",
       "4     0   1   2  Green           0.0           1.0           2.0   \n",
       "5    -1   0   1  Green           1.0           0.0           1.0   \n",
       "6     1   1   1    Red           1.0           1.0           1.0   \n",
       "\n",
       "     total_distance  \n",
       "obs                  \n",
       "1          3.000000  \n",
       "2          2.000000  \n",
       "3          3.162278  \n",
       "4          2.236068  \n",
       "5          1.414214  \n",
       "6          1.732051  "
      ]
     },
     "execution_count": 138,
     "metadata": {},
     "output_type": "execute_result"
    }
   ],
   "source": [
    "df"
   ]
  },
  {
   "cell_type": "markdown",
   "metadata": {},
   "source": [
    "b) What is our KNN prediction with K = 1? Why?\n",
    "\n",
    "For K = 1 and a predicted values of $X_i = (0,0,0)$, the closest neighbor for this value is $X_5 = 1.414214$. This is because according to KNN you want to categorize unknown values according to their closest known observations, which in this case if $X_5 = (-1,0,1)$. IN this case, since $K = 1$, we can predict that $X_i = (0,0,0)$ will be 'Green'"
   ]
  },
  {
   "cell_type": "markdown",
   "metadata": {},
   "source": [
    "c)What is our KNN prediction with K = 3? Why?\n",
    "\n",
    "When $K = 3$, and $X_i = (0,0,0)$ the closest neighbors are $X_2 = (4,0,0),\\ X_5 = (-1,0,1)\\ and\\ X_6 =(1,1,1)$. Given these closest neighbors, $X_2,\\ and\\ X_6$ are 'red' while $X_5$ is green. Since there are 2 'red' and 1 'green' $X_i$ should be 'red'"
   ]
  },
  {
   "cell_type": "markdown",
   "metadata": {},
   "source": [
    "d) If the Bayes (optimal) decision boundary in this problem is highly non- linear, then would we expect the best value for K to be large or small? Why?\n",
    "\n",
    "The K value for a highly non-linear Bayes Decsion Boundary should be small. This is because a small K reduces smoothness of the boundary line that accounts for larger variance in the data and reduces bias. "
   ]
  },
  {
   "cell_type": "markdown",
   "metadata": {},
   "source": [
    "e)Use Python’s scikit-learn library to estimate the KNN classifier of the testpointX1 =X2 =X3 =1withK=2."
   ]
  },
  {
   "cell_type": "code",
   "execution_count": 163,
   "metadata": {
    "collapsed": true
   },
   "outputs": [],
   "source": [
    "from sklearn import neighbors\n",
    "\n",
    "x = df.as_matrix(columns = ['x1','x2','x3'])\n",
    "\n",
    "y = np.array(df.y)\n",
    "\n",
    "knn = neighbors.KNeighborsClassifier(n_neighbors = 2)\n",
    "\n",
    "knn.fit(x,y)\n",
    "\n",
    "x_j = np.array([1,1,1])\n",
    "\n",
    "prediction = knn.predict([x_j])\n",
    "\n",
    "neighbors = knn.kneighbors([x_j])"
   ]
  },
  {
   "cell_type": "code",
   "execution_count": 166,
   "metadata": {},
   "outputs": [
    {
     "name": "stdout",
     "output_type": "stream",
     "text": [
      "Predicted Y Value:  Green\n",
      "KNN Neigbors:  (array([[ 0.        ,  1.41421356]]), array([[5, 3]]))\n"
     ]
    }
   ],
   "source": [
    "print(\"Predicted Y Value: \", prediction[0])\n",
    "print(\"KNN Neigbors: \", neighbors)"
   ]
  }
 ],
 "metadata": {
  "kernelspec": {
   "display_name": "Python 3",
   "language": "python",
   "name": "python3"
  },
  "language_info": {
   "codemirror_mode": {
    "name": "ipython",
    "version": 3
   },
   "file_extension": ".py",
   "mimetype": "text/x-python",
   "name": "python",
   "nbconvert_exporter": "python",
   "pygments_lexer": "ipython3",
   "version": "3.6.1"
  }
 },
 "nbformat": 4,
 "nbformat_minor": 2
}
