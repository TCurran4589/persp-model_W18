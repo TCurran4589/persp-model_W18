{
 "cells": [
  {
   "cell_type": "markdown",
   "metadata": {},
   "source": [
    "### Problem Set 3:\n",
    "   Tom Curran\n",
    "   \n",
    "   MAC30100 Winter 2018\n",
    "   \n",
    "   January 24, 2018\n",
    "#### Question 2"
   ]
  },
  {
   "cell_type": "markdown",
   "metadata": {},
   "source": [
    "Linear regression and MLE (4 points). You can do maximum likelihood estimation as a way to estimate parameters in regression analysis. Assume the following linear regression model for determining what effects the number of weeks that an individual i is sick during the year (sicki).\n",
    "\n",
    "$$\n",
    "sick_{i} = \\beta_{0} + \\beta_{1}age_i + \\beta_2children_i + \\beta_3tempwinter_i + \\epsilon_i \\\\ where \\  \\epsilon \\sim N(0, \\sigma^2)\n",
    "$$\n",
    "\n",
    "The parameters (β0, β1, β2, β3, σ2) are the parameters of the model that we want to estimate. The variable agei gives the age of individual i at the end of 2016 (including fractions of a year). The variable childreni states how many chil- dren individual i had at the end of 2016. And the variable temp winteri is the average temperature during the months of January, February, and Decem- ber 2016 for individual i. The data for this model are in the file sick.txt, which contains comma-separated values of 200 individuals for four variables (sicki, agei, childreni, temp winteri) with variable labels in the first row.\n",
    "***"
   ]
  },
  {
   "cell_type": "markdown",
   "metadata": {},
   "source": [
    "Estimate the parameters of the model (β0, β1, β2, β3) by GMM by solving the minimization problem of the GMM criterion function. Use the identity matrix as the estimator for the optimal weighting matrix. Treat each of the 200 values of the variable sicki as your data moments m(xi) (200 data moments). Treat the predicted or expected sick values from your model as your model moments (200 model moments),\n",
    "\n",
    "$$\n",
    "m(x_{i} | \\beta_{0} \\beta_{1} \\beta_{2} \\beta_{3}) = \\beta_{0} + \\beta_{1}age_i + \\beta_2children_i + \\beta_3tempwinter_i \n",
    "$$\n",
    "\n",
    "\n",
    "where xi is short hand for the data. Let the error function of the moments be the simple difference (not percent difference) of the data moments from\n",
    "\n",
    "$$\n",
    "e(x_{i} | \\beta_{0} \\beta_{1} \\beta_{2} \\beta_{3}) = \\beta_{0} + \\beta_{1}age_i + \\beta_2children_i + \\beta_3tempwinter_i = \\epsilon_{i}\n",
    "$$\n",
    "\n",
    "Use these error functions in your criterion function to estimate the modelparameters (β0, β1, β2, β3) by GMM. This is a more general version of what OLS does. It minimizes the distance between the model moments and the data moments. It minimizes the sum of squared error terms. Report yourestimates and report the value of your GMM criterion function. In this case, the GMM criterion function value evaluated at the optimal parameter values is simply the sum of squared errors."
   ]
  },
  {
   "cell_type": "code",
   "execution_count": 6,
   "metadata": {},
   "outputs": [
    {
     "name": "stdout",
     "output_type": "stream",
     "text": [
      "<class 'pandas.core.frame.DataFrame'>\n",
      "RangeIndex: 200 entries, 0 to 199\n",
      "Data columns (total 4 columns):\n",
      "sick              200 non-null float64\n",
      "age               200 non-null float64\n",
      "children          200 non-null float64\n",
      "avgtemp_winter    200 non-null float64\n",
      "dtypes: float64(4)\n",
      "memory usage: 6.3 KB\n"
     ]
    },
    {
     "data": {
      "text/html": [
       "<table class=\"simpletable\">\n",
       "<caption>OLS Regression Results</caption>\n",
       "<tr>\n",
       "  <th>Dep. Variable:</th>          <td>sick</td>       <th>  R-squared:         </th> <td>   1.000</td> \n",
       "</tr>\n",
       "<tr>\n",
       "  <th>Model:</th>                   <td>OLS</td>       <th>  Adj. R-squared:    </th> <td>   1.000</td> \n",
       "</tr>\n",
       "<tr>\n",
       "  <th>Method:</th>             <td>Least Squares</td>  <th>  F-statistic:       </th> <td>1.815e+06</td>\n",
       "</tr>\n",
       "<tr>\n",
       "  <th>Date:</th>             <td>Wed, 24 Jan 2018</td> <th>  Prob (F-statistic):</th>  <td>  0.00</td>  \n",
       "</tr>\n",
       "<tr>\n",
       "  <th>Time:</th>                 <td>01:58:49</td>     <th>  Log-Likelihood:    </th> <td>  876.87</td> \n",
       "</tr>\n",
       "<tr>\n",
       "  <th>No. Observations:</th>      <td>   200</td>      <th>  AIC:               </th> <td>  -1746.</td> \n",
       "</tr>\n",
       "<tr>\n",
       "  <th>Df Residuals:</th>          <td>   196</td>      <th>  BIC:               </th> <td>  -1733.</td> \n",
       "</tr>\n",
       "<tr>\n",
       "  <th>Df Model:</th>              <td>     3</td>      <th>                     </th>     <td> </td>    \n",
       "</tr>\n",
       "<tr>\n",
       "  <th>Covariance Type:</th>      <td>nonrobust</td>    <th>                     </th>     <td> </td>    \n",
       "</tr>\n",
       "</table>\n",
       "<table class=\"simpletable\">\n",
       "<tr>\n",
       "         <td></td>           <th>coef</th>     <th>std err</th>      <th>t</th>      <th>P>|t|</th>  <th>[0.025</th>    <th>0.975]</th>  \n",
       "</tr>\n",
       "<tr>\n",
       "  <th>Intercept</th>      <td>    0.2516</td> <td>    0.001</td> <td>  254.032</td> <td> 0.000</td> <td>    0.250</td> <td>    0.254</td>\n",
       "</tr>\n",
       "<tr>\n",
       "  <th>age</th>            <td>    0.0129</td> <td> 6.49e-05</td> <td>  199.257</td> <td> 0.000</td> <td>    0.013</td> <td>    0.013</td>\n",
       "</tr>\n",
       "<tr>\n",
       "  <th>children</th>       <td>    0.4005</td> <td>    0.001</td> <td>  643.790</td> <td> 0.000</td> <td>    0.399</td> <td>    0.402</td>\n",
       "</tr>\n",
       "<tr>\n",
       "  <th>avgtemp_winter</th> <td>   -0.0100</td> <td> 4.51e-05</td> <td> -221.388</td> <td> 0.000</td> <td>   -0.010</td> <td>   -0.010</td>\n",
       "</tr>\n",
       "</table>\n",
       "<table class=\"simpletable\">\n",
       "<tr>\n",
       "  <th>Omnibus:</th>       <td>24.095</td> <th>  Durbin-Watson:     </th> <td>   1.997</td>\n",
       "</tr>\n",
       "<tr>\n",
       "  <th>Prob(Omnibus):</th> <td> 0.000</td> <th>  Jarque-Bera (JB):  </th> <td>   7.115</td>\n",
       "</tr>\n",
       "<tr>\n",
       "  <th>Skew:</th>          <td>-0.002</td> <th>  Prob(JB):          </th> <td>  0.0285</td>\n",
       "</tr>\n",
       "<tr>\n",
       "  <th>Kurtosis:</th>      <td> 2.076</td> <th>  Cond. No.          </th> <td>    290.</td>\n",
       "</tr>\n",
       "</table>"
      ],
      "text/plain": [
       "<class 'statsmodels.iolib.summary.Summary'>\n",
       "\"\"\"\n",
       "                            OLS Regression Results                            \n",
       "==============================================================================\n",
       "Dep. Variable:                   sick   R-squared:                       1.000\n",
       "Model:                            OLS   Adj. R-squared:                  1.000\n",
       "Method:                 Least Squares   F-statistic:                 1.815e+06\n",
       "Date:                Wed, 24 Jan 2018   Prob (F-statistic):               0.00\n",
       "Time:                        01:58:49   Log-Likelihood:                 876.87\n",
       "No. Observations:                 200   AIC:                            -1746.\n",
       "Df Residuals:                     196   BIC:                            -1733.\n",
       "Df Model:                           3                                         \n",
       "Covariance Type:            nonrobust                                         \n",
       "==================================================================================\n",
       "                     coef    std err          t      P>|t|      [0.025      0.975]\n",
       "----------------------------------------------------------------------------------\n",
       "Intercept          0.2516      0.001    254.032      0.000       0.250       0.254\n",
       "age                0.0129   6.49e-05    199.257      0.000       0.013       0.013\n",
       "children           0.4005      0.001    643.790      0.000       0.399       0.402\n",
       "avgtemp_winter    -0.0100   4.51e-05   -221.388      0.000      -0.010      -0.010\n",
       "==============================================================================\n",
       "Omnibus:                       24.095   Durbin-Watson:                   1.997\n",
       "Prob(Omnibus):                  0.000   Jarque-Bera (JB):                7.115\n",
       "Skew:                          -0.002   Prob(JB):                       0.0285\n",
       "Kurtosis:                       2.076   Cond. No.                         290.\n",
       "==============================================================================\n",
       "\n",
       "Warnings:\n",
       "[1] Standard Errors assume that the covariance matrix of the errors is correctly specified.\n",
       "\"\"\""
      ]
     },
     "execution_count": 6,
     "metadata": {},
     "output_type": "execute_result"
    }
   ],
   "source": [
    "import numpy as np\n",
    "import pandas as pd\n",
    "import matplotlib.pyplot as plt\n",
    "import scipy.optimize as opt\n",
    "import scipy.stats as sts\n",
    "import statsmodels.formula.api as smf\n",
    "%matplotlib inline\n",
    "\n",
    "sickdf = pd.read_csv(\"sick.txt\")\n",
    "sickdf.info()\n",
    "sickdf.describe()\n",
    "sick_ols = smf.ols('sick ~age + children + avgtemp_winter', data = sickdf).fit().summary()\n",
    "sick_ols"
   ]
  },
  {
   "cell_type": "code",
   "execution_count": 19,
   "metadata": {
    "collapsed": true
   },
   "outputs": [],
   "source": [
    "def reg_moments(coef, variables):\n",
    "    b0, b1, b2, b3, simple = coef\n",
    "    age, children, wintertemp = variables\n",
    "    pred_sick = b0 + b1 * age + b2 * children + b3*wintertemp\n",
    "    return(pred_sick)"
   ]
  },
  {
   "cell_type": "code",
   "execution_count": 20,
   "metadata": {
    "collapsed": true
   },
   "outputs": [],
   "source": [
    "def reg_errors(coef, variables):\n",
    "    \n",
    "    simple  = coef[-1]\n",
    "    \n",
    "    actual_sick, age, children, wintertemp = variables\n",
    "    \n",
    "    pass_to_reg = age, children, wintertemp\n",
    "    \n",
    "    data_moments = actual_sick\n",
    "    \n",
    "    model_moments = reg_moments(coef, pass_to_reg)\n",
    "    \n",
    "    \n",
    "    if simple:\n",
    "        errorVector = model_moments - data_moments\n",
    "    else:\n",
    "        errorVector = (model_moments - data_moments) / data_moments\n",
    "    \n",
    "    return(errorVector)"
   ]
  },
  {
   "cell_type": "code",
   "execution_count": 27,
   "metadata": {
    "collapsed": true
   },
   "outputs": [],
   "source": [
    "def reg_criteria(params, *args):\n",
    "    b0, b1, b2, b3, simple = params\n",
    "    actual_sick, age, children, wintertemp, w = args\n",
    "    variables = actual_sick, age, children, wintertemp\n",
    "    error = reg_errors(params, variables)\n",
    "    critical_value = np.dot(np.dot(error.T, w), error)\n",
    "    return(critical_value)"
   ]
  },
  {
   "cell_type": "code",
   "execution_count": 29,
   "metadata": {},
   "outputs": [
    {
     "data": {
      "text/plain": [
       "array([  2.51640676e-01,   1.29335332e-02,   4.00500811e-01,\n",
       "        -9.99166694e-03,   5.12291907e-05])"
      ]
     },
     "execution_count": 29,
     "metadata": {},
     "output_type": "execute_result"
    }
   ],
   "source": [
    "#guess intial parameter values for beta coefficients\n",
    "\n",
    "init_b0 = .5\n",
    "init_b1 = .1\n",
    "init_b2 = .25\n",
    "init_b3 = .01\n",
    "simple = False\n",
    "\n",
    "sickvals = sickdf.sick\n",
    "age = sickdf.age\n",
    "children = sickdf.children\n",
    "wintertemp = sickdf.avgtemp_winter\n",
    "\n",
    "init_params = np.array([init_b0, init_b1, init_b2, init_b3, simple])\n",
    "\n",
    "w_hat = np.eye(200)\n",
    "\n",
    "gmm_reg_args = sickvals, age, children, wintertemp, w_hat\n",
    "\n",
    "bounds = ((None, None), (None, None), (None, None), (None, None))\n",
    "\n",
    "results_reg = opt.minimize(reg_criteria, init_params, args = (gmm_reg_args))\n",
    "\n",
    "results_reg.x"
   ]
  },
  {
   "cell_type": "code",
   "execution_count": 32,
   "metadata": {},
   "outputs": [
    {
     "name": "stdout",
     "output_type": "stream",
     "text": [
      "Estimates of Model Parameters: \n",
      "Beta 0:  0.251640676039\n",
      "Beta 1:  0.0129335332464\n",
      "Beta 2:  0.400500810529\n",
      "Beta 3:  -0.00999166694281\n",
      "Critical Function Value:  5.12291907469e-05\n"
     ]
    }
   ],
   "source": [
    "gmm_b0, gmm_b1, gmm_b2, gmm_b3, crit_function_value = results_reg.x\n",
    "\n",
    "print(\"Estimates of Model Parameters: \")\n",
    "print(\"Beta 0: \", gmm_b0)\n",
    "print(\"Beta 1: \", gmm_b1)\n",
    "print(\"Beta 2: \", gmm_b2)\n",
    "print(\"Beta 3: \", gmm_b3)\n",
    "print(\"Critical Function Value: \", crit_function_value)"
   ]
  },
  {
   "cell_type": "code",
   "execution_count": null,
   "metadata": {
    "collapsed": true
   },
   "outputs": [],
   "source": []
  }
 ],
 "metadata": {
  "kernelspec": {
   "display_name": "Python 3",
   "language": "python",
   "name": "python3"
  },
  "language_info": {
   "codemirror_mode": {
    "name": "ipython",
    "version": 3
   },
   "file_extension": ".py",
   "mimetype": "text/x-python",
   "name": "python",
   "nbconvert_exporter": "python",
   "pygments_lexer": "ipython3",
   "version": "3.6.1"
  }
 },
 "nbformat": 4,
 "nbformat_minor": 2
}
