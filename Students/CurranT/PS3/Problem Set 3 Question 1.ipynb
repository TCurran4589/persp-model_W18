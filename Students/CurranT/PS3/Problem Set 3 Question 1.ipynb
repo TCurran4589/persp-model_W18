{
 "cells": [
  {
   "cell_type": "markdown",
   "metadata": {},
   "source": [
    "### Problem Set 3:\n",
    "   Tom Curran\n",
    "   \n",
    "   MAC30100 Winter 2018\n",
    "   \n",
    "   January 24, 2018\n",
    "   \n",
    "#### Question 1\n",
    "\n",
    "Some income data, lognormal distribution, and GMM (7 points). For this problem, you will use the same 200 data points from Problem Set 2 of annual incomes of students who graduated in 2018, 2019, and 2020 from the University of Chicago M.A. Program in Computational Social Science. These data are in a single column of the text file incomes.txt in the PS3 folder. Incomes are reported in U.S. dollars. For this exercise, you will need to use the log normal distribution.\n",
    "\n",
    "$$f(x | \\mu, \\sigma) = \\frac{1}{x\\sigma\\sqrt{2\\pi}} * e^{(-\\frac{[ln(x)-\\mu]^2}{2\\sigma^2})} $$\n",
    "\n",
    "The function $f(x|\\mu, \\sigma^2)$ is a probability density function in that $f(x|\\mu, \\sigma^2)>0$for all x and  $f(x|\\mu, \\sigma^2) = 1$. Note that $x$ must be nonnegative in the lognormal distribution and σ must be strictly positive.\n"
   ]
  },
  {
   "cell_type": "code",
   "execution_count": 1,
   "metadata": {},
   "outputs": [
    {
     "name": "stdout",
     "output_type": "stream",
     "text": [
      "<class 'pandas.core.frame.DataFrame'>\n",
      "RangeIndex: 200 entries, 0 to 199\n",
      "Data columns (total 1 columns):\n",
      "Income    200 non-null float64\n",
      "dtypes: float64(1)\n",
      "memory usage: 1.6 KB\n"
     ]
    },
    {
     "data": {
      "text/html": [
       "<div>\n",
       "<style scoped>\n",
       "    .dataframe tbody tr th:only-of-type {\n",
       "        vertical-align: middle;\n",
       "    }\n",
       "\n",
       "    .dataframe tbody tr th {\n",
       "        vertical-align: top;\n",
       "    }\n",
       "\n",
       "    .dataframe thead th {\n",
       "        text-align: right;\n",
       "    }\n",
       "</style>\n",
       "<table border=\"1\" class=\"dataframe\">\n",
       "  <thead>\n",
       "    <tr style=\"text-align: right;\">\n",
       "      <th></th>\n",
       "      <th>Income</th>\n",
       "    </tr>\n",
       "  </thead>\n",
       "  <tbody>\n",
       "    <tr>\n",
       "      <th>count</th>\n",
       "      <td>200.000000</td>\n",
       "    </tr>\n",
       "    <tr>\n",
       "      <th>mean</th>\n",
       "      <td>87588.930769</td>\n",
       "    </tr>\n",
       "    <tr>\n",
       "      <th>std</th>\n",
       "      <td>18081.166388</td>\n",
       "    </tr>\n",
       "    <tr>\n",
       "      <th>min</th>\n",
       "      <td>49278.801938</td>\n",
       "    </tr>\n",
       "    <tr>\n",
       "      <th>25%</th>\n",
       "      <td>74088.607447</td>\n",
       "    </tr>\n",
       "    <tr>\n",
       "      <th>50%</th>\n",
       "      <td>85801.697366</td>\n",
       "    </tr>\n",
       "    <tr>\n",
       "      <th>75%</th>\n",
       "      <td>100102.725206</td>\n",
       "    </tr>\n",
       "    <tr>\n",
       "      <th>max</th>\n",
       "      <td>135865.026796</td>\n",
       "    </tr>\n",
       "  </tbody>\n",
       "</table>\n",
       "</div>"
      ],
      "text/plain": [
       "              Income\n",
       "count     200.000000\n",
       "mean    87588.930769\n",
       "std     18081.166388\n",
       "min     49278.801938\n",
       "25%     74088.607447\n",
       "50%     85801.697366\n",
       "75%    100102.725206\n",
       "max    135865.026796"
      ]
     },
     "execution_count": 1,
     "metadata": {},
     "output_type": "execute_result"
    }
   ],
   "source": [
    "import numpy as np\n",
    "import pandas as pd\n",
    "import numpy.linalg as lin\n",
    "import scipy.stats as sts\n",
    "import scipy.integrate as intgr\n",
    "import scipy.optimize as opt\n",
    "import matplotlib\n",
    "import matplotlib.pyplot as plt\n",
    "from mpl_toolkits.mplot3d import Axes3D\n",
    "from matplotlib import cm\n",
    "%matplotlib inline\n",
    "\n",
    "incomesdf = pd.read_csv(\"incomes.txt\", header = None).rename(columns = {0:'Income'})\n",
    "\n",
    "incomes = incomesdf.Income\n",
    "\n",
    "incomesdf.info()\n",
    "\n",
    "incomesdf.describe()"
   ]
  },
  {
   "cell_type": "markdown",
   "metadata": {},
   "source": [
    "a) Plot a histogram of percentages of the income.txt data with 30 bins. Make sure that the bins are weighted using the normed=True option. Make sure your plot has correct x-axis and y-axis labels as well as a plot title."
   ]
  },
  {
   "cell_type": "code",
   "execution_count": 2,
   "metadata": {},
   "outputs": [
    {
     "data": {
      "text/plain": [
       "<matplotlib.text.Text at 0x110adc588>"
      ]
     },
     "execution_count": 2,
     "metadata": {},
     "output_type": "execute_result"
    },
    {
     "data": {
      "image/png": "[encoded data removed]",
      "text/plain": [
       "<matplotlib.figure.Figure at 0x106b6f048>"
      ]
     },
     "metadata": {},
     "output_type": "display_data"
    }
   ],
   "source": [
    "plt.hist(incomes, bins = 30, normed = 30, color = 'g')\n",
    "plt.title(\"MACS Graduates Reported Incomes\")\n",
    "plt.xlabel(\"Reported Income\")\n",
    "plt.ylabel(\"Chance of Ocurring\")"
   ]
  },
  {
   "cell_type": "code",
   "execution_count": 3,
   "metadata": {
    "collapsed": true
   },
   "outputs": [],
   "source": [
    "def lognormalpdf(x, mu, sigma, cutoff):\n",
    "    #taken from homework assignment on github\n",
    "    pdf = (1/(x *sigma * np.sqrt(2 * np.pi)) * np.exp( - (np.log(x) - mu)**2 / (2 * sigma**2)))\n",
    "    \n",
    "    return(pdf)"
   ]
  },
  {
   "cell_type": "code",
   "execution_count": 4,
   "metadata": {
    "collapsed": true
   },
   "outputs": [],
   "source": [
    "def dataMoments(x):\n",
    "    x_mean = x.mean()\n",
    "    x_std = x.std()\n",
    "    \n",
    "    return x_mean, x_std"
   ]
  },
  {
   "cell_type": "code",
   "execution_count": 5,
   "metadata": {
    "collapsed": true
   },
   "outputs": [],
   "source": [
    "def modelMoments(mu, sigma, cutoff):\n",
    "    xfx = lambda x: x * lognormalpdf(x, mu, sigma, cutoff)\n",
    "    \n",
    "    (mean_model, m_m_err) = intgr.quad(xfx, 0, cutoff)\n",
    "    \n",
    "    x2fx = lambda x: ((x - mean_model) ** 2) * lognormalpdf(x, mu, sigma, cutoff) \n",
    "    \n",
    "    #adding np.sqrt() to original code since the standard error is the square root of the var\n",
    "    (std_model, v_m_err) = np.sqrt(intgr.quad(x2fx, 0, cutoff))\n",
    "    return(mean_model, std_model)"
   ]
  },
  {
   "cell_type": "code",
   "execution_count": 6,
   "metadata": {
    "collapsed": true
   },
   "outputs": [],
   "source": [
    "def errors1(x, mu, sigma, cutoff, simple):\n",
    "    #returns the mean and variance of the original (x) list\n",
    "    x_mean, x_std = dataMoments(x)\n",
    "    \n",
    "    data_moments = np.array([[x_mean], [x_std]])\n",
    "   \n",
    "    model_mean, model_std = modelMoments(mu, sigma, cutoff)\n",
    "    \n",
    "    model_moments = np.array([[model_mean], [model_std]])\n",
    "    \n",
    "    if simple:\n",
    "        errorVector = model_moments - data_moments\n",
    "    else:\n",
    "        errorVector = (model_moments - data_moments) / data_moments\n",
    "    \n",
    "    return(errorVector)"
   ]
  },
  {
   "cell_type": "code",
   "execution_count": 7,
   "metadata": {
    "collapsed": true
   },
   "outputs": [],
   "source": [
    "def criterion(params, *args):\n",
    "    mu, sigma = params\n",
    "    x, cutoff, W = args\n",
    "    err = errors1(x, mu, sigma, cutoff, simple=False)\n",
    "    critical_value = np.dot(np.dot(err.T, W), err)    \n",
    "    return critical_value"
   ]
  },
  {
   "cell_type": "code",
   "execution_count": 36,
   "metadata": {},
   "outputs": [],
   "source": [
    "mu_init = 11.5\n",
    "\n",
    "sigma_init = .5\n",
    "\n",
    "params_init = np.array([mu_init, sigma_init])\n",
    "\n",
    "cutoff = 150000\n",
    "\n",
    "w_hat = np.eye(2)\n",
    "\n",
    "moment_args = (incomes, cutoff, w_hat)\n",
    "\n",
    "results = opt.minimize(criterion, \n",
    "                       params_init, \n",
    "                       args=(moment_args),\n",
    "                       method='L-BFGS-B', \n",
    "                       bounds=((1e-10, None), (1e-10, None)))"
   ]
  },
  {
   "cell_type": "markdown",
   "metadata": {},
   "source": [
    "Estimate the parameters of the lognormal distribution by generalized method of moments. Use the average income and standard deviation of income as your two moments. Use the identity matrix as your weighting matrix Wˆ .\n",
    "\n",
    "Plot your estimated lognormal PDF against the histogram from part (a).\n",
    "\n",
    "Report the value of your GMM criterion function at the estimated parameter values. \n",
    "\n",
    "Report and compare your two data moments against your two model moments at the estimated parameter values."
   ]
  },
  {
   "cell_type": "code",
   "execution_count": 9,
   "metadata": {},
   "outputs": [
    {
     "data": {
      "text/plain": [
       "      fun: array([[  4.54980191e-15]])\n",
       " hess_inv: <2x2 LbfgsInvHessProduct with dtype=float64>\n",
       "      jac: array([  9.98192748e-08,   7.22448416e-07])\n",
       "  message: b'CONVERGENCE: NORM_OF_PROJECTED_GRADIENT_<=_PGTOL'\n",
       "     nfev: 39\n",
       "      nit: 9\n",
       "   status: 0\n",
       "  success: True\n",
       "        x: array([ 11.36610095,   0.20935994])"
      ]
     },
     "execution_count": 9,
     "metadata": {},
     "output_type": "execute_result"
    }
   ],
   "source": [
    "results"
   ]
  },
  {
   "cell_type": "code",
   "execution_count": 10,
   "metadata": {},
   "outputs": [
    {
     "name": "stdout",
     "output_type": "stream",
     "text": [
      "GMM Mu:  11.3661009481\n",
      "-----------------------------\n",
      "GMM Sigma:  0.209359943669\n"
     ]
    }
   ],
   "source": [
    "gmm_mu1, gmm_sigma1 = results.x\n",
    "print(\"GMM Mu: \", gmm_mu1)\n",
    "print('-----------------------------')\n",
    "print(\"GMM Sigma: \", gmm_sigma1)"
   ]
  },
  {
   "cell_type": "code",
   "execution_count": 11,
   "metadata": {},
   "outputs": [
    {
     "name": "stdout",
     "output_type": "stream",
     "text": [
      "Data Mu:  87588.93076851233\n",
      "-----------------------------\n",
      "Data Standard Deviation:  18081.166388410416\n"
     ]
    }
   ],
   "source": [
    "#data moments\n",
    "data_mean, data_std = dataMoments(incomes)\n",
    "print(\"Data Mu: \", data_mean)\n",
    "print('-----------------------------')\n",
    "print(\"Data Standard Deviation: \", data_std)"
   ]
  },
  {
   "cell_type": "code",
   "execution_count": 12,
   "metadata": {},
   "outputs": [
    {
     "name": "stdout",
     "output_type": "stream",
     "text": [
      "Model Mean:  87588.93068826331\n",
      "-----------------------------\n",
      "Model Standard Deviaiton:  18081.1676079\n"
     ]
    }
   ],
   "source": [
    "#mean and std of model:\n",
    "model_mean, model_std= modelMoments(gmm_mu1, gmm_sigma1, 150000)\n",
    "\n",
    "print(\"Model Mean: \",model_mean )\n",
    "print('-----------------------------')\n",
    "print(\"Model Standard Deviaiton: \", model_std)"
   ]
  },
  {
   "cell_type": "code",
   "execution_count": 13,
   "metadata": {},
   "outputs": [
    {
     "data": {
      "text/plain": [
       "<matplotlib.legend.Legend at 0x113fac320>"
      ]
     },
     "execution_count": 13,
     "metadata": {},
     "output_type": "execute_result"
    },
    {
     "data": {
      "image/png": "[encoded data removed]",
      "text/plain": [
       "<matplotlib.figure.Figure at 0x113f4fe48>"
      ]
     },
     "metadata": {},
     "output_type": "display_data"
    }
   ],
   "source": [
    "x_sim = np.linspace(0.01, 150000, 20000)\n",
    "x_sim_pdf = lognormalpdf(x_sim, gmm_mu1, gmm_sigma1, cutoff)\n",
    "plt.hist(incomes, bins = 30, normed = 30, color = 'g', edgecolor = 'black')\n",
    "plt.title(\"MACS Graduates Reported Incomes\")\n",
    "plt.xlabel(\"Reported Income\")\n",
    "plt.ylabel(\"Chance of Ocurring\")\n",
    "plt.plot(x_sim, x_sim_pdf, linewidth = 3, color = 'r', label='$\\mu$=11.37, $\\sigma$=0.21' )\n",
    "plt.legend(loc = 'upper left')"
   ]
  },
  {
   "cell_type": "markdown",
   "metadata": {},
   "source": [
    "c) Perform the two-step GMM estimator by using your estimates from part (b) with two moments to generate an estimator for the variance covariance matrix Ωˆ2step, which you then use to get the two-step estimator for the optimal weighting matrix Wˆ2step. \n",
    "\n",
    "Report your estimates as well as the criterion function value at these estimates. \n",
    "\n",
    "Plot your estimated lognormal PDF against the histogram from part (a) and the estimated PDF from\n",
    "part (b). \n",
    "\n",
    "Report and compare your two data moments against your two model moments at the estimated parameter values."
   ]
  },
  {
   "cell_type": "code",
   "execution_count": 15,
   "metadata": {},
   "outputs": [
    {
     "name": "stdout",
     "output_type": "stream",
     "text": [
      "critical values of error functions:  [[ -9.16200531e-10]\n",
      " [  6.74459968e-08]]\n",
      "----------------------------------------------\n",
      "Variance Covariance Matrix:\n",
      "[[  4.19711707e-21  -3.08970290e-19]\n",
      " [ -3.08970290e-19   2.27448124e-17]]\n",
      "----------------------------------------------\n",
      "Two Step Optimal Weighting Matrix: \n",
      "[[  8.11009792e+12  -5.97023926e+14]\n",
      " [ -5.97023926e+14   4.39498477e+16]]\n"
     ]
    }
   ],
   "source": [
    "#errors1(x, mu, sigma, cutoff, simple)\n",
    "error1 = errors1(incomes, gmm_mu1, gmm_sigma1, cutoff, False)\n",
    "print(\"critical values of error functions: \", error1)\n",
    "print(\"----------------------------------------------\")\n",
    "\n",
    "varcovmatrix = np.dot(error1, error1.T)/incomes.shape[0]\n",
    "print(\"Variance Covariance Matrix:\")\n",
    "print(varcovmatrix)\n",
    "\n",
    "print(\"----------------------------------------------\")\n",
    "print(\"Two Step Optimal Weighting Matrix: \")\n",
    "w_hat2 = lin.pinv(varcovmatrix)\n",
    "print(w_hat2)"
   ]
  },
  {
   "cell_type": "code",
   "execution_count": 16,
   "metadata": {},
   "outputs": [
    {
     "name": "stdout",
     "output_type": "stream",
     "text": [
      "GMM Mu #2:  11.3661008685\n",
      "-----------------------------\n",
      "GMM Sigma #2:  0.20935993901\n",
      "-----------------------------\n",
      "Critical Value, GMM Mu #2, GMM Sigma #2:  [[ 11.10986318]]\n"
     ]
    }
   ],
   "source": [
    "gmm_params = np.array([gmm_mu1, gmm_sigma1])\n",
    "\n",
    "gmm_args = (incomes, 150000, w_hat2)\n",
    "\n",
    "results2 = opt.minimize(criterion, gmm_params, args = (gmm_args),method='L-BFGS-B', bounds=((0.1, None), (0.1, None)))\n",
    "\n",
    "gmm_mu2, gmm_sigma2 = results2.x\n",
    "\n",
    "print(\"GMM Mu #2: \", gmm_mu2)\n",
    "print('-----------------------------')\n",
    "print(\"GMM Sigma #2: \", gmm_sigma2)\n",
    "\n",
    "params_crit2 = np.array([gmm_mu2, gmm_sigma1])\n",
    "criterion2 = criterion(params_crit2, incomes, cutoff, w_hat2)\n",
    "\n",
    "print('-----------------------------')\n",
    "print(\"Critical Value, GMM Mu #2, GMM Sigma #2: \", criterion2)"
   ]
  },
  {
   "cell_type": "code",
   "execution_count": 17,
   "metadata": {},
   "outputs": [
    {
     "data": {
      "text/plain": [
       "<matplotlib.legend.Legend at 0x115cc0f60>"
      ]
     },
     "execution_count": 17,
     "metadata": {},
     "output_type": "execute_result"
    },
    {
     "data": {
      "image/png": "[encoded data removed]",
      "text/plain": [
       "<matplotlib.figure.Figure at 0x1152abe10>"
      ]
     },
     "metadata": {},
     "output_type": "display_data"
    }
   ],
   "source": [
    "x_sim2 = np.linspace(.01, 150000, 2000)\n",
    "\n",
    "x_sim2_lognorm = lognormalpdf(x_sim2, gmm_mu2, gmm_sigma2, cutoff)\n",
    "\n",
    "\n",
    "plt.hist(incomes, bins = 30, normed = 30, color = 'g', edgecolor = 'black')\n",
    "plt.title(\"MACS Graduates Reported Incomes\")\n",
    "plt.xlabel(\"Reported Income\")\n",
    "plt.ylabel(\"Chance of Ocurring\")\n",
    "plt.plot(x_sim, x_sim_pdf, linewidth = 3, color = 'r', label='$\\mu_gmm1$, $\\sigma_gmm1$')\n",
    "plt.plot(x_sim2, x_sim2_lognorm, linewidth = 3, color = 'b', label='$\\mu_gmm2$, $\\sigma_gmm2$' )\n",
    "plt.legend(loc = 'upper left')"
   ]
  },
  {
   "cell_type": "code",
   "execution_count": 18,
   "metadata": {},
   "outputs": [
    {
     "name": "stdout",
     "output_type": "stream",
     "text": [
      "Data Mean:  87588.93076851233\n",
      "Data Standard Deviation:  18081.166388410416\n",
      "-----------------------------------\n",
      "Model #1 Mean:  87588.93068826331\n",
      "Model #1 Standard Deviation:  18081.1676079\n",
      "-----------------------------------\n",
      "Model #2 Mean:  87588.9244489748\n",
      "Model #2 Standard Deviation:  18081.1663123\n"
     ]
    }
   ],
   "source": [
    "model_mean2, model_std2 = modelMoments(gmm_mu2, gmm_sigma2, cutoff)\n",
    "print(\"Data Mean: \", data_mean)\n",
    "print(\"Data Standard Deviation: \", data_std)\n",
    "print(\"-----------------------------------\")\n",
    "print(\"Model #1 Mean: \", model_mean)\n",
    "print(\"Model #1 Standard Deviation: \", model_std)\n",
    "print(\"-----------------------------------\")\n",
    "print(\"Model #2 Mean: \", model_mean2)\n",
    "print(\"Model #2 Standard Deviation: \", model_std2)"
   ]
  },
  {
   "cell_type": "markdown",
   "metadata": {},
   "source": [
    "d) Now estimate the lognormal PDF to fit the data by GMM using different moments. Use percent of individuals who earn less than \\$75,000, percent of individuals who earn between \\$75,000 and \\$100,000, and percent of individuals who earn more than \\$100,000 as your three moments. \n",
    "\n",
    "Use the identity matrix as your estimator for the optimal weighting matrix. \n",
    "\n",
    "Plot your estimated lognormal PDF against the histogram from part (a). \n",
    "\n",
    "Report the value of your GMM criterion function at the estimated parameter values. \n",
    "\n",
    "Report and compare your three data moments against your three model moments at the estimated parameter values."
   ]
  },
  {
   "cell_type": "code",
   "execution_count": 19,
   "metadata": {},
   "outputs": [],
   "source": [
    "def dataMoments2(x):\n",
    "    data_prct_under75 = x[x<75000].shape[0]/x.shape[0]\n",
    "    data_prct_75_100 = x[(x>=75000) & (x<=100000)].shape[0]/x.shape[0]\n",
    "    data_prct_over100 = x[x>100000].shape[0]/x.shape[0]\n",
    "    \n",
    "    return(data_prct_under75, data_prct_75_100, data_prct_over100)"
   ]
  },
  {
   "cell_type": "code",
   "execution_count": 20,
   "metadata": {},
   "outputs": [],
   "source": [
    "def modelMoments2(mu, sigma, cutoff):\n",
    "    xfx = lambda x: lognormalpdf(x, mu, sigma, cutoff)\n",
    "    (model_prct_under75, model_under75_err) = intgr.quad(xfx, 0.01, 75000)\n",
    "    (model_prct_75to100, model_prct_75to100_err) = intgr.quad(xfx, 75000,100000)\n",
    "    (model_prct_over100, model_prct_over100_err) = intgr.quad(xfx, 100000, np.inf)\n",
    "    \n",
    "    return(model_prct_under75,\n",
    "           model_prct_75to100,\n",
    "           model_prct_over100)    "
   ]
  },
  {
   "cell_type": "code",
   "execution_count": 21,
   "metadata": {
    "collapsed": true
   },
   "outputs": [],
   "source": [
    "def errorVector2(x, mu, sigma, cutoff, simple):\n",
    "    data_prct_under75, data_prct_75_100, data_prct_over100 = dataMoments2(x)\n",
    "    \n",
    "    data_moments = np.array([[data_prct_under75],[data_prct_75_100],[data_prct_over100]])\n",
    "    \n",
    "    model_prct_under75, model_prct_75to100, model_prct_over100 = modelMoments2(mu, sigma, cutoff)\n",
    "    \n",
    "    model_moments = np.array([[model_prct_under75],[model_prct_75to100],[model_prct_over100]]) \n",
    "    \n",
    "    if simple:\n",
    "        errorVector = model_moments - data_moments\n",
    "    else:\n",
    "        errorVector = 100 * ((model_moments - data_moments) / data_moments)\n",
    "    \n",
    "    return(errorVector)"
   ]
  },
  {
   "cell_type": "code",
   "execution_count": 22,
   "metadata": {
    "collapsed": true
   },
   "outputs": [],
   "source": [
    "def crit2(params, *args):\n",
    "    mu, sigma = params\n",
    "    x, cutoff, w = args\n",
    "    errors2 = errorVector2(x, mu, sigma, cutoff, simple = False)\n",
    "    criticalValue = np.dot(np.dot(errors2.T, w), errors2)\n",
    "    return(criticalValue)"
   ]
  },
  {
   "cell_type": "code",
   "execution_count": 23,
   "metadata": {},
   "outputs": [
    {
     "name": "stdout",
     "output_type": "stream",
     "text": [
      "-----------------------------------------------------------------------------\n",
      "Data Moments:\n",
      "-----------------------------------------------------------------------------\n",
      "Data Mu:  87588.93076851233\n",
      "Data Sigma:  18081.166388410416\n",
      "\n",
      "-----------------------------------------------------------------------------\n",
      "Actual Data:\n",
      "-----------------------------------------------------------------------------\n",
      "Percent Making Under $75,000:  0.265\n",
      "Percent Making between $75,000 & $100,000 :  0.475\n",
      "Percent Making Over $100,000:  0.26\n",
      "\n",
      "-----------------------------------------------------------------------------\n",
      "Model Data:\n",
      "-----------------------------------------------------------------------------\n",
      "Percent Making Under $75,000:  0.6738202596154482\n",
      "Percent Making between $75,000 & $100,000 :  0.17369881270011803\n",
      "Percent Making Over $100,000:  0.1524809276844328\n",
      "\n",
      "-----------------------------------------------------------------------------\n",
      "Criterion:\n",
      "-----------------------------------------------------------------------------\n",
      "[[ 7312.01195184]]\n"
     ]
    }
   ],
   "source": [
    "d_under75, d_75to100, d_over100 = dataMoments2(incomes)\n",
    "m_under75, m_75to100, m_over100 = modelMoments2(11,.5, cutoff)\n",
    "\n",
    "data_mu3, data_sigma3 = dataMoments(incomes)\n",
    "\n",
    "print('-----------------------------------------------------------------------------')\n",
    "print(\"Data Moments:\")\n",
    "print('-----------------------------------------------------------------------------')\n",
    "print(\"Data Mu: \", data_mu3)\n",
    "print(\"Data Sigma: \", data_sigma3)\n",
    "print(\"\")\n",
    "\n",
    "print('-----------------------------------------------------------------------------')\n",
    "print(\"Actual Data:\")\n",
    "print('-----------------------------------------------------------------------------')\n",
    "print(\"Percent Making Under $75,000: \", d_under75)\n",
    "print(\"Percent Making between $75,000 & $100,000 : \", d_75to100)\n",
    "print(\"Percent Making Over $100,000: \", d_over100)\n",
    "print(\"\")\n",
    "\n",
    "\n",
    "print('-----------------------------------------------------------------------------')\n",
    "print(\"Model Data:\")\n",
    "print('-----------------------------------------------------------------------------')\n",
    "print(\"Percent Making Under $75,000: \", m_under75)\n",
    "print(\"Percent Making between $75,000 & $100,000 : \", m_75to100)\n",
    "print(\"Percent Making Over $100,000: \", m_over100)\n",
    "print(\"\")\n",
    "\n",
    "print('-----------------------------------------------------------------------------')\n",
    "print(\"Criterion:\")\n",
    "print('-----------------------------------------------------------------------------')\n",
    "\n",
    "init_mu3 = 11.25\n",
    "init_sigma3 = .3\n",
    "params3 = np.array([init_mu3, init_sigma3])\n",
    "w_hat3 = np.eye(3)\n",
    "\n",
    "gmm_args3 = (incomes,\n",
    "             cutoff,\n",
    "             w_hat3)\n",
    "\n",
    "criterion2 = crit2(params3, incomes, cutoff, w_hat3)\n",
    "print(criterion2)"
   ]
  },
  {
   "cell_type": "code",
   "execution_count": 24,
   "metadata": {},
   "outputs": [
    {
     "name": "stdout",
     "output_type": "stream",
     "text": [
      "--------------------------------------------------------\n",
      "Model #3 Mu:  11.3661009481\n",
      "--------------------------------------------------------\n",
      "Model #3 Standard Deviation:  0.209359943669\n",
      "--------------------------------------------------------\n",
      "Model #3 Results:\n",
      "      fun: array([[  2.52645502e-11]])\n",
      " hess_inv: <2x2 LbfgsInvHessProduct with dtype=float64>\n",
      "      jac: array([ -1.42517292e-04,  -7.53677104e-06])\n",
      "  message: b'CONVERGENCE: REL_REDUCTION_OF_F_<=_FACTR*EPSMCH'\n",
      "     nfev: 39\n",
      "      nit: 10\n",
      "   status: 0\n",
      "  success: True\n",
      "        x: array([ 11.36734892,   0.22628052])\n",
      "--------------------------------------------------------\n"
     ]
    },
    {
     "name": "stderr",
     "output_type": "stream",
     "text": [
      "/Users/thomascurran/anaconda/lib/python3.6/site-packages/scipy/integrate/quadpack.py:364: IntegrationWarning: The algorithm does not converge.  Roundoff error is detected\n",
      "  in the extrapolation table.  It is assumed that the requested tolerance\n",
      "  cannot be achieved, and that the returned result (if full_output = 1) is \n",
      "  the best which can be obtained.\n",
      "  warnings.warn(msg, IntegrationWarning)\n"
     ]
    }
   ],
   "source": [
    "results3 = opt.minimize(crit2, params3, args = (gmm_args3), method='L-BFGS-B', bounds=((0.1, None), (0.1, None)))\n",
    "gmm_mu3, gmm_sigma3 = results.x\n",
    "print(\"--------------------------------------------------------\")\n",
    "print(\"Model #3 Mu: \", gmm_mu3)\n",
    "print(\"--------------------------------------------------------\")\n",
    "print(\"Model #3 Standard Deviation: \", gmm_sigma3)\n",
    "print(\"--------------------------------------------------------\")\n",
    "print(\"Model #3 Results:\")\n",
    "print(results3)\n",
    "print((\"--------------------------------------------------------\"))"
   ]
  },
  {
   "cell_type": "code",
   "execution_count": 25,
   "metadata": {},
   "outputs": [
    {
     "data": {
      "text/plain": [
       "<matplotlib.legend.Legend at 0x11677c588>"
      ]
     },
     "execution_count": 25,
     "metadata": {},
     "output_type": "execute_result"
    },
    {
     "data": {
      "image/png": "[encoded data removed]",
      "text/plain": [
       "<matplotlib.figure.Figure at 0x116723048>"
      ]
     },
     "metadata": {},
     "output_type": "display_data"
    }
   ],
   "source": [
    "x_sim3 = np.linspace(.01, 150000, 2000)\n",
    "\n",
    "x_sim3_lognorm = lognormalpdf(x_sim3, gmm_mu3, gmm_sigma3, cutoff)\n",
    "\n",
    "\n",
    "plt.hist(incomes, bins = 30, normed = 30, color = 'g', edgecolor = 'black')\n",
    "plt.title(\"MACS Graduates Reported Incomes\")\n",
    "plt.xlabel(\"Reported Income\")\n",
    "plt.ylabel(\"Chance of Ocurring\")\n",
    "plt.plot(x_sim3, x_sim3_lognorm, color = 'y', label='$\\mu_{gmm3}$, $\\sigma_{gmm3}$' )\n",
    "plt.legend(loc = 'upper left')"
   ]
  },
  {
   "cell_type": "markdown",
   "metadata": {},
   "source": [
    "***\n",
    "e) Perform the two-step GMM estimator by using your estimates from part (d) with three moments to generate an estimator for the variance covariance matrix Ωˆ2step, which you then use to get the two-step estimator for the optimal weighting matrix Wˆ 2step. \n",
    "\n",
    "Report your estimates as well as the criterion function value at these estimates. Plot your estimated lognormal PDF against the histogram from part (a) and the estimated PDF from part (d). \n",
    "\n",
    "Report and compare your three data moments against your\n",
    "\n",
    "three model moments at the estimated parameter values."
   ]
  },
  {
   "cell_type": "code",
   "execution_count": 26,
   "metadata": {},
   "outputs": [
    {
     "name": "stdout",
     "output_type": "stream",
     "text": [
      "critical values of error functions:  [[ -9.16200531e-10]\n",
      " [  6.74459968e-08]]\n",
      "----------------------------------------------\n",
      "Variance Covariance Matrix:\n",
      "[[ 0.14893467 -0.18904284  0.19356793]\n",
      " [-0.18904284  0.23995215 -0.24569585]\n",
      " [ 0.19356793 -0.24569585  0.25157703]]\n",
      "----------------------------------------------\n",
      "Two Step Optimal Weighting Matrix: \n",
      "[[ 0.36308354 -0.46086208  0.47189367]\n",
      " [-0.46086208  0.58497244 -0.59897483]\n",
      " [ 0.47189367 -0.59897483  0.61331239]]\n"
     ]
    }
   ],
   "source": [
    "#errors1(x, mu, sigma, cutoff, simple)\n",
    "error3 = errorVector2(incomes, gmm_mu3, gmm_sigma3, cutoff, False)\n",
    "print(\"critical values of error functions: \", error1)\n",
    "print(\"----------------------------------------------\")\n",
    "\n",
    "varcovmatrix3 = np.dot(error3, error3.T)/incomes.shape[0]\n",
    "print(\"Variance Covariance Matrix:\")\n",
    "print(varcovmatrix3)\n",
    "\n",
    "print(\"----------------------------------------------\")\n",
    "print(\"Two Step Optimal Weighting Matrix: \")\n",
    "w_hat3 = lin.pinv(varcovmatrix3)\n",
    "print(w_hat3)"
   ]
  },
  {
   "cell_type": "code",
   "execution_count": 31,
   "metadata": {},
   "outputs": [
    {
     "name": "stderr",
     "output_type": "stream",
     "text": [
      "/Users/thomascurran/anaconda/lib/python3.6/site-packages/scipy/integrate/quadpack.py:364: IntegrationWarning: The algorithm does not converge.  Roundoff error is detected\n",
      "  in the extrapolation table.  It is assumed that the requested tolerance\n",
      "  cannot be achieved, and that the returned result (if full_output = 1) is \n",
      "  the best which can be obtained.\n",
      "  warnings.warn(msg, IntegrationWarning)\n"
     ]
    },
    {
     "name": "stdout",
     "output_type": "stream",
     "text": [
      "[[ 13547.24263482]]\n",
      "[ 11.36734892   0.22628052]\n"
     ]
    }
   ],
   "source": [
    "init_mu4 = 11.5\n",
    "init_sigma4 = .5\n",
    "params4 = np.array([init_mu4, init_sigma4])\n",
    "w_hat4 = np.eye(3)\n",
    "\n",
    "gmm_args4 = (incomes,\n",
    "             cutoff,\n",
    "             w_hat4)\n",
    "\n",
    "criterion4 = crit2(params4, incomes, cutoff, w_hat3)\n",
    "results4 = opt.minimize(crit2, params4, args = (gmm_args4), method='L-BFGS-B', bounds=((0.1, None), (0.1, None)))\n",
    "print(criterion4)\n",
    "\n",
    "gmm_mu4, gmm_sigma4 = results4.x\n",
    "print(results4.x)"
   ]
  },
  {
   "cell_type": "code",
   "execution_count": 32,
   "metadata": {},
   "outputs": [
    {
     "data": {
      "text/plain": [
       "<matplotlib.legend.Legend at 0x1184e9a90>"
      ]
     },
     "execution_count": 32,
     "metadata": {},
     "output_type": "execute_result"
    },
    {
     "data": {
      "image/png": "[encoded data removed]",
      "text/plain": [
       "<matplotlib.figure.Figure at 0x11689e0f0>"
      ]
     },
     "metadata": {},
     "output_type": "display_data"
    }
   ],
   "source": [
    "x_sim4 = np.linspace(.01, 150000, 2000)\n",
    "x_sim4_lognorm = lognormalpdf(x_sim4, gmm_mu4, gmm_sigma4, cutoff)\n",
    "plt.hist(incomes, bins = 30, normed = 30, color = 'g', edgecolor = 'black')\n",
    "plt.title(\"MACS Graduates Reported Incomes\")\n",
    "plt.xlabel(\"Reported Income\")\n",
    "plt.ylabel(\"Chance of Ocurring\")\n",
    "plt.plot(x_sim3, x_sim3_lognorm, color = 'y', label='$\\mu_{gmm3}$, $\\sigma_{gmm3}$' )\n",
    "plt.plot(x_sim4, x_sim4_lognorm, color = 'b', label='$\\mu_{gmm4}$, $\\sigma_{gmm4}$' )\n",
    "plt.legend(loc = 'upper left')"
   ]
  },
  {
   "cell_type": "markdown",
   "metadata": {},
   "source": [
    "f) Which of the four estimations from parts (b), (c), (d), and (e) fits the data best? Justify your answer."
   ]
  },
  {
   "cell_type": "code",
   "execution_count": 44,
   "metadata": {},
   "outputs": [
    {
     "data": {
      "text/plain": [
       "<matplotlib.legend.Legend at 0x1168ddf60>"
      ]
     },
     "execution_count": 44,
     "metadata": {},
     "output_type": "execute_result"
    },
    {
     "data": {
      "image/png": "[encoded data removed]",
      "text/plain": [
       "<matplotlib.figure.Figure at 0x118cd0f60>"
      ]
     },
     "metadata": {},
     "output_type": "display_data"
    }
   ],
   "source": [
    "plt.hist(incomes, bins = 30, normed = 30, color = 'g', edgecolor = 'black')\n",
    "plt.title(\"MACS Graduates Reported Incomes\")\n",
    "plt.xlabel(\"Reported Income\")\n",
    "plt.ylabel(\"Chance of Ocurring\")\n",
    "plt.plot(x_sim, x_sim_pdf, linewidth = 3, color = 'r', label='$\\mu_gmm1$, $\\sigma_gmm1$')\n",
    "plt.plot(x_sim2, x_sim2_lognorm, linewidth = 3, color = 'b', label='$\\mu_gmm2$, $\\sigma_gmm2$' )\n",
    "plt.plot(x_sim3, x_sim3_lognorm, color = 'y', label='$\\mu_{gmm3}$, $\\sigma_{gmm3}$' )\n",
    "plt.plot(x_sim4, x_sim4_lognorm, color = 'purple', label='$\\mu_{gmm4}$, $\\sigma_{gmm4}$' )\n",
    "plt.legend(loc = 'upper left')"
   ]
  },
  {
   "cell_type": "code",
   "execution_count": 42,
   "metadata": {},
   "outputs": [
    {
     "name": "stdout",
     "output_type": "stream",
     "text": [
      "Criterion Function Values\n",
      "Model #1 -  [  4.54980191e-15]\n",
      "Model #2 -  [  4.54980191e-15]\n",
      "Model #3 -  [  2.52645502e-11]\n",
      "Model #4 -  [  2.41103406e-11]\n"
     ]
    }
   ],
   "source": [
    "print(\"Criterion Function Values\")\n",
    "\n",
    "print(\"Model #1 - \", results.fun[0])\n",
    "print(\"Model #2 - \", results.fun[0])\n",
    "print(\"Model #3 - \", results3.fun[0])\n",
    "print(\"Model #4 - \", results4.fun[0])"
   ]
  },
  {
   "cell_type": "markdown",
   "metadata": {},
   "source": [
    "based on the given models from b, c, d and e I would choose either the model from part b or part c since they have the lower values of the criterion function. "
   ]
  }
 ],
 "metadata": {
  "kernelspec": {
   "display_name": "Python 3",
   "language": "python",
   "name": "python3"
  },
  "language_info": {
   "codemirror_mode": {
    "name": "ipython",
    "version": 3
   },
   "file_extension": ".py",
   "mimetype": "text/x-python",
   "name": "python",
   "nbconvert_exporter": "python",
   "pygments_lexer": "ipython3",
   "version": "3.6.1"
  }
 },
 "nbformat": 4,
 "nbformat_minor": 2
}
